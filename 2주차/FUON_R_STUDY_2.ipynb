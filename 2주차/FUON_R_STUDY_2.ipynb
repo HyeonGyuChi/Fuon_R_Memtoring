{
 "cells": [
  {
   "cell_type": "markdown",
   "metadata": {},
   "source": [
    "# 퓨온 2주차 멘토링 \n",
    "- **한림대학교 빅데이터전공 20155342 지현규**"
   ]
  },
  {
   "cell_type": "markdown",
   "metadata": {},
   "source": [
    "## R 기초 자료형"
   ]
  },
  {
   "cell_type": "markdown",
   "metadata": {},
   "source": [
    "### 1) 기본자료형 (6가지)"
   ]
  },
  {
   "cell_type": "markdown",
   "metadata": {},
   "source": [
    "- 문자형(character) :문자, 문자열\n",
    "- 수치형(numeric) \n",
    "- 정수(integer) - 1L, 20L (L부호는 정수형으로 데이터를 저장하도록 R에게 일러준다)\n",
    "- 실수(double) - 1, 20, 3.14, 2.1\n",
    "- 복소수형(complex) : 실수 + 허수\n",
    "- 논리형 (logical) : TRUE(T, 1), FALSE(F, 0)"
   ]
  },
  {
   "cell_type": "markdown",
   "metadata": {},
   "source": [
    "### 2) 특수한 형태의 값"
   ]
  },
  {
   "cell_type": "markdown",
   "metadata": {},
   "source": [
    "- NULL : 데이터의 값이 존재하지 않는다는 의미이다.\n",
    "- NA : missing value, 결측값, 손실된값으로 값이 없음을 의미한다. 하나의 요소의 의미\n",
    "- NaN(not a number) :수학적으로 정의되지 않은 값\n",
    "- Inf, -Inf :무한대\n",
    "- 자료형 확인 함수 : mode(), typeof() : 자료형 확인"
   ]
  },
  {
   "cell_type": "markdown",
   "metadata": {},
   "source": [
    "##### 아래 내용을 입력후 Ctrl + Enter로 한줄씩 실행, 결과는 Console에서 확인"
   ]
  },
  {
   "cell_type": "code",
   "execution_count": 9,
   "metadata": {},
   "outputs": [
    {
     "data": {
      "text/html": [
       "'numeric'"
      ],
      "text/latex": [
       "'numeric'"
      ],
      "text/markdown": [
       "'numeric'"
      ],
      "text/plain": [
       "[1] \"numeric\""
      ]
     },
     "metadata": {},
     "output_type": "display_data"
    }
   ],
   "source": [
    "mode(1)"
   ]
  },
  {
   "cell_type": "code",
   "execution_count": 10,
   "metadata": {},
   "outputs": [
    {
     "data": {
      "text/html": [
       "'numeric'"
      ],
      "text/latex": [
       "'numeric'"
      ],
      "text/markdown": [
       "'numeric'"
      ],
      "text/plain": [
       "[1] \"numeric\""
      ]
     },
     "metadata": {},
     "output_type": "display_data"
    }
   ],
   "source": [
    "mode(1L)"
   ]
  },
  {
   "cell_type": "code",
   "execution_count": 11,
   "metadata": {},
   "outputs": [
    {
     "data": {
      "text/html": [
       "'numeric'"
      ],
      "text/latex": [
       "'numeric'"
      ],
      "text/markdown": [
       "'numeric'"
      ],
      "text/plain": [
       "[1] \"numeric\""
      ]
     },
     "metadata": {},
     "output_type": "display_data"
    }
   ],
   "source": [
    "mode(3.14)"
   ]
  },
  {
   "cell_type": "code",
   "execution_count": 12,
   "metadata": {},
   "outputs": [
    {
     "data": {
      "text/html": [
       "'character'"
      ],
      "text/latex": [
       "'character'"
      ],
      "text/markdown": [
       "'character'"
      ],
      "text/plain": [
       "[1] \"character\""
      ]
     },
     "metadata": {},
     "output_type": "display_data"
    }
   ],
   "source": [
    "mode('홍길동')"
   ]
  },
  {
   "cell_type": "code",
   "execution_count": 13,
   "metadata": {},
   "outputs": [
    {
     "data": {
      "text/html": [
       "'complex'"
      ],
      "text/latex": [
       "'complex'"
      ],
      "text/markdown": [
       "'complex'"
      ],
      "text/plain": [
       "[1] \"complex\""
      ]
     },
     "metadata": {},
     "output_type": "display_data"
    }
   ],
   "source": [
    "mode(3+4i)"
   ]
  },
  {
   "cell_type": "code",
   "execution_count": 14,
   "metadata": {},
   "outputs": [
    {
     "data": {
      "text/html": [
       "'logical'"
      ],
      "text/latex": [
       "'logical'"
      ],
      "text/markdown": [
       "'logical'"
      ],
      "text/plain": [
       "[1] \"logical\""
      ]
     },
     "metadata": {},
     "output_type": "display_data"
    }
   ],
   "source": [
    "mode(TRUE)"
   ]
  },
  {
   "cell_type": "code",
   "execution_count": 15,
   "metadata": {},
   "outputs": [
    {
     "data": {
      "text/html": [
       "'double'"
      ],
      "text/latex": [
       "'double'"
      ],
      "text/markdown": [
       "'double'"
      ],
      "text/plain": [
       "[1] \"double\""
      ]
     },
     "metadata": {},
     "output_type": "display_data"
    }
   ],
   "source": [
    "typeof(2.3)"
   ]
  },
  {
   "cell_type": "code",
   "execution_count": 16,
   "metadata": {},
   "outputs": [
    {
     "data": {
      "text/html": [
       "'integer'"
      ],
      "text/latex": [
       "'integer'"
      ],
      "text/markdown": [
       "'integer'"
      ],
      "text/plain": [
       "[1] \"integer\""
      ]
     },
     "metadata": {},
     "output_type": "display_data"
    }
   ],
   "source": [
    "typeof(1L)"
   ]
  },
  {
   "cell_type": "code",
   "execution_count": 17,
   "metadata": {},
   "outputs": [
    {
     "data": {
      "text/html": [
       "'double'"
      ],
      "text/latex": [
       "'double'"
      ],
      "text/markdown": [
       "'double'"
      ],
      "text/plain": [
       "[1] \"double\""
      ]
     },
     "metadata": {},
     "output_type": "display_data"
    }
   ],
   "source": [
    "typeof(1)"
   ]
  },
  {
   "cell_type": "code",
   "execution_count": 18,
   "metadata": {},
   "outputs": [
    {
     "data": {
      "text/html": [
       "'logical'"
      ],
      "text/latex": [
       "'logical'"
      ],
      "text/markdown": [
       "'logical'"
      ],
      "text/plain": [
       "[1] \"logical\""
      ]
     },
     "metadata": {},
     "output_type": "display_data"
    }
   ],
   "source": [
    "typeof(TRUE)"
   ]
  },
  {
   "cell_type": "code",
   "execution_count": 19,
   "metadata": {},
   "outputs": [
    {
     "data": {
      "text/html": [
       "'character'"
      ],
      "text/latex": [
       "'character'"
      ],
      "text/markdown": [
       "'character'"
      ],
      "text/plain": [
       "[1] \"character\""
      ]
     },
     "metadata": {},
     "output_type": "display_data"
    }
   ],
   "source": [
    "typeof('홍길동')"
   ]
  },
  {
   "cell_type": "code",
   "execution_count": 20,
   "metadata": {},
   "outputs": [
    {
     "data": {
      "text/html": [
       "'character'"
      ],
      "text/latex": [
       "'character'"
      ],
      "text/markdown": [
       "'character'"
      ],
      "text/plain": [
       "[1] \"character\""
      ]
     },
     "metadata": {},
     "output_type": "display_data"
    }
   ],
   "source": [
    "typeof('3+4i')"
   ]
  },
  {
   "cell_type": "markdown",
   "metadata": {},
   "source": [
    "## 자료구조"
   ]
  },
  {
   "cell_type": "markdown",
   "metadata": {},
   "source": [
    "### 1. 원자배열(atomic vector) = 벡터\n",
    "- 벡터가 R에서 가장 일반적이고 기본이 되는 자료구조\n",
    "- 벡터는 Charater, Logical, integer, numeric을 요소로 갖는 집합(collection)\n",
    "- 한 벡터 내의 타입은 항상 같아야 함\n",
    "- 벡터를 만드는 가장 간단한 방법은 c()함수\n",
    "- 숫자형 데이터인 경우 **시작값:끝값** 형태와 **seq(from,to,by)**로 사용 가능\n",
    "- seq_along() : **주어진 인자데이터 길이** 만큼 1,2,3... 길이까지 벡터로 변환된다.\n",
    "- seq_leng() : **주어진 인자값**까지 1,2,3,,, 인자값까지 벡터로 변환한다.\n",
    "- rep() : 일정한 패턴들을 반복적으로 사용하여 벡터를 만든다."
   ]
  },
  {
   "cell_type": "code",
   "execution_count": 23,
   "metadata": {},
   "outputs": [
    {
     "data": {
      "text/html": [
       "<ol class=list-inline>\n",
       "\t<li>1</li>\n",
       "\t<li>2</li>\n",
       "\t<li>3</li>\n",
       "\t<li>4</li>\n",
       "\t<li>5</li>\n",
       "\t<li>6</li>\n",
       "\t<li>7</li>\n",
       "\t<li>8</li>\n",
       "\t<li>9</li>\n",
       "\t<li>10</li>\n",
       "</ol>\n"
      ],
      "text/latex": [
       "\\begin{enumerate*}\n",
       "\\item 1\n",
       "\\item 2\n",
       "\\item 3\n",
       "\\item 4\n",
       "\\item 5\n",
       "\\item 6\n",
       "\\item 7\n",
       "\\item 8\n",
       "\\item 9\n",
       "\\item 10\n",
       "\\end{enumerate*}\n"
      ],
      "text/markdown": [
       "1. 1\n",
       "2. 2\n",
       "3. 3\n",
       "4. 4\n",
       "5. 5\n",
       "6. 6\n",
       "7. 7\n",
       "8. 8\n",
       "9. 9\n",
       "10. 10\n",
       "\n",
       "\n"
      ],
      "text/plain": [
       " [1]  1  2  3  4  5  6  7  8  9 10"
      ]
     },
     "metadata": {},
     "output_type": "display_data"
    }
   ],
   "source": [
    "x<-c(1,2,3,4,5,6,7,8,9,10)\n",
    "x"
   ]
  },
  {
   "cell_type": "code",
   "execution_count": 24,
   "metadata": {},
   "outputs": [
    {
     "data": {
      "text/html": [
       "<ol class=list-inline>\n",
       "\t<li>'1'</li>\n",
       "\t<li>'2'</li>\n",
       "\t<li>'3'</li>\n",
       "\t<li>'4'</li>\n",
       "\t<li>'1'</li>\n",
       "\t<li>'2'</li>\n",
       "\t<li>'3'</li>\n",
       "</ol>\n"
      ],
      "text/latex": [
       "\\begin{enumerate*}\n",
       "\\item '1'\n",
       "\\item '2'\n",
       "\\item '3'\n",
       "\\item '4'\n",
       "\\item '1'\n",
       "\\item '2'\n",
       "\\item '3'\n",
       "\\end{enumerate*}\n"
      ],
      "text/markdown": [
       "1. '1'\n",
       "2. '2'\n",
       "3. '3'\n",
       "4. '4'\n",
       "5. '1'\n",
       "6. '2'\n",
       "7. '3'\n",
       "\n",
       "\n"
      ],
      "text/plain": [
       "[1] \"1\" \"2\" \"3\" \"4\" \"1\" \"2\" \"3\""
      ]
     },
     "metadata": {},
     "output_type": "display_data"
    }
   ],
   "source": [
    "c('1','2','3','4',c('1','2','3'))"
   ]
  },
  {
   "cell_type": "code",
   "execution_count": 27,
   "metadata": {},
   "outputs": [
    {
     "data": {
      "text/html": [
       "<ol class=list-inline>\n",
       "\t<li>1</li>\n",
       "\t<li>2</li>\n",
       "\t<li>3</li>\n",
       "\t<li>4</li>\n",
       "\t<li>5</li>\n",
       "\t<li>6</li>\n",
       "\t<li>7</li>\n",
       "\t<li>8</li>\n",
       "\t<li>9</li>\n",
       "\t<li>10</li>\n",
       "</ol>\n"
      ],
      "text/latex": [
       "\\begin{enumerate*}\n",
       "\\item 1\n",
       "\\item 2\n",
       "\\item 3\n",
       "\\item 4\n",
       "\\item 5\n",
       "\\item 6\n",
       "\\item 7\n",
       "\\item 8\n",
       "\\item 9\n",
       "\\item 10\n",
       "\\end{enumerate*}\n"
      ],
      "text/markdown": [
       "1. 1\n",
       "2. 2\n",
       "3. 3\n",
       "4. 4\n",
       "5. 5\n",
       "6. 6\n",
       "7. 7\n",
       "8. 8\n",
       "9. 9\n",
       "10. 10\n",
       "\n",
       "\n"
      ],
      "text/plain": [
       " [1]  1  2  3  4  5  6  7  8  9 10"
      ]
     },
     "metadata": {},
     "output_type": "display_data"
    }
   ],
   "source": [
    "x<-1:10\n",
    "x"
   ]
  },
  {
   "cell_type": "code",
   "execution_count": 29,
   "metadata": {},
   "outputs": [
    {
     "data": {
      "text/html": [
       "<ol class=list-inline>\n",
       "\t<li>2</li>\n",
       "\t<li>3</li>\n",
       "\t<li>4</li>\n",
       "\t<li>5</li>\n",
       "\t<li>6</li>\n",
       "\t<li>7</li>\n",
       "\t<li>8</li>\n",
       "\t<li>9</li>\n",
       "</ol>\n"
      ],
      "text/latex": [
       "\\begin{enumerate*}\n",
       "\\item 2\n",
       "\\item 3\n",
       "\\item 4\n",
       "\\item 5\n",
       "\\item 6\n",
       "\\item 7\n",
       "\\item 8\n",
       "\\item 9\n",
       "\\end{enumerate*}\n"
      ],
      "text/markdown": [
       "1. 2\n",
       "2. 3\n",
       "3. 4\n",
       "4. 5\n",
       "5. 6\n",
       "6. 7\n",
       "7. 8\n",
       "8. 9\n",
       "\n",
       "\n"
      ],
      "text/plain": [
       "[1] 2 3 4 5 6 7 8 9"
      ]
     },
     "metadata": {},
     "output_type": "display_data"
    }
   ],
   "source": [
    "x<-2:9\n",
    "x"
   ]
  },
  {
   "cell_type": "code",
   "execution_count": 31,
   "metadata": {},
   "outputs": [
    {
     "data": {
      "text/html": [
       "<ol class=list-inline>\n",
       "\t<li>1</li>\n",
       "\t<li>3</li>\n",
       "\t<li>5</li>\n",
       "\t<li>7</li>\n",
       "\t<li>9</li>\n",
       "</ol>\n"
      ],
      "text/latex": [
       "\\begin{enumerate*}\n",
       "\\item 1\n",
       "\\item 3\n",
       "\\item 5\n",
       "\\item 7\n",
       "\\item 9\n",
       "\\end{enumerate*}\n"
      ],
      "text/markdown": [
       "1. 1\n",
       "2. 3\n",
       "3. 5\n",
       "4. 7\n",
       "5. 9\n",
       "\n",
       "\n"
      ],
      "text/plain": [
       "[1] 1 3 5 7 9"
      ]
     },
     "metadata": {},
     "output_type": "display_data"
    }
   ],
   "source": [
    "seq(1,10,2)"
   ]
  },
  {
   "cell_type": "code",
   "execution_count": 33,
   "metadata": {},
   "outputs": [
    {
     "data": {
      "text/html": [
       "<ol class=list-inline>\n",
       "\t<li>5</li>\n",
       "\t<li>6</li>\n",
       "\t<li>7</li>\n",
       "\t<li>8</li>\n",
       "</ol>\n"
      ],
      "text/latex": [
       "\\begin{enumerate*}\n",
       "\\item 5\n",
       "\\item 6\n",
       "\\item 7\n",
       "\\item 8\n",
       "\\end{enumerate*}\n"
      ],
      "text/markdown": [
       "1. 5\n",
       "2. 6\n",
       "3. 7\n",
       "4. 8\n",
       "\n",
       "\n"
      ],
      "text/plain": [
       "[1] 5 6 7 8"
      ]
     },
     "metadata": {},
     "output_type": "display_data"
    }
   ],
   "source": [
    "seq(5,8)"
   ]
  },
  {
   "cell_type": "code",
   "execution_count": 35,
   "metadata": {},
   "outputs": [
    {
     "data": {
      "text/html": [
       "<ol class=list-inline>\n",
       "\t<li>1</li>\n",
       "\t<li>2</li>\n",
       "\t<li>3</li>\n",
       "\t<li>4</li>\n",
       "</ol>\n"
      ],
      "text/latex": [
       "\\begin{enumerate*}\n",
       "\\item 1\n",
       "\\item 2\n",
       "\\item 3\n",
       "\\item 4\n",
       "\\end{enumerate*}\n"
      ],
      "text/markdown": [
       "1. 1\n",
       "2. 2\n",
       "3. 3\n",
       "4. 4\n",
       "\n",
       "\n"
      ],
      "text/plain": [
       "[1] 1 2 3 4"
      ]
     },
     "metadata": {},
     "output_type": "display_data"
    }
   ],
   "source": [
    "seq_along(c('a','b','c','d')) # 1,2,3,4"
   ]
  },
  {
   "cell_type": "code",
   "execution_count": 36,
   "metadata": {},
   "outputs": [
    {
     "data": {
      "text/html": [
       "<ol class=list-inline>\n",
       "\t<li>1</li>\n",
       "\t<li>2</li>\n",
       "\t<li>3</li>\n",
       "\t<li>4</li>\n",
       "\t<li>5</li>\n",
       "</ol>\n"
      ],
      "text/latex": [
       "\\begin{enumerate*}\n",
       "\\item 1\n",
       "\\item 2\n",
       "\\item 3\n",
       "\\item 4\n",
       "\\item 5\n",
       "\\end{enumerate*}\n"
      ],
      "text/markdown": [
       "1. 1\n",
       "2. 2\n",
       "3. 3\n",
       "4. 4\n",
       "5. 5\n",
       "\n",
       "\n"
      ],
      "text/plain": [
       "[1] 1 2 3 4 5"
      ]
     },
     "metadata": {},
     "output_type": "display_data"
    }
   ],
   "source": [
    "seq_len(5) # 1,2,3,4,5"
   ]
  },
  {
   "cell_type": "code",
   "execution_count": 38,
   "metadata": {},
   "outputs": [
    {
     "data": {
      "text/html": [
       "<ol class=list-inline>\n",
       "\t<li>1</li>\n",
       "\t<li>2</li>\n",
       "\t<li>3</li>\n",
       "\t<li>1</li>\n",
       "\t<li>2</li>\n",
       "\t<li>3</li>\n",
       "\t<li>1</li>\n",
       "\t<li>2</li>\n",
       "\t<li>3</li>\n",
       "\t<li>1</li>\n",
       "\t<li>2</li>\n",
       "\t<li>3</li>\n",
       "\t<li>1</li>\n",
       "\t<li>2</li>\n",
       "\t<li>3</li>\n",
       "</ol>\n"
      ],
      "text/latex": [
       "\\begin{enumerate*}\n",
       "\\item 1\n",
       "\\item 2\n",
       "\\item 3\n",
       "\\item 1\n",
       "\\item 2\n",
       "\\item 3\n",
       "\\item 1\n",
       "\\item 2\n",
       "\\item 3\n",
       "\\item 1\n",
       "\\item 2\n",
       "\\item 3\n",
       "\\item 1\n",
       "\\item 2\n",
       "\\item 3\n",
       "\\end{enumerate*}\n"
      ],
      "text/markdown": [
       "1. 1\n",
       "2. 2\n",
       "3. 3\n",
       "4. 1\n",
       "5. 2\n",
       "6. 3\n",
       "7. 1\n",
       "8. 2\n",
       "9. 3\n",
       "10. 1\n",
       "11. 2\n",
       "12. 3\n",
       "13. 1\n",
       "14. 2\n",
       "15. 3\n",
       "\n",
       "\n"
      ],
      "text/plain": [
       " [1] 1 2 3 1 2 3 1 2 3 1 2 3 1 2 3"
      ]
     },
     "metadata": {},
     "output_type": "display_data"
    }
   ],
   "source": [
    "rep(1:3,5) # 1:3 형식을 5번 반복하여 백터생성"
   ]
  },
  {
   "cell_type": "code",
   "execution_count": 39,
   "metadata": {},
   "outputs": [
    {
     "data": {
      "text/html": [
       "<ol class=list-inline>\n",
       "\t<li>1</li>\n",
       "\t<li>1</li>\n",
       "\t<li>1</li>\n",
       "\t<li>2</li>\n",
       "\t<li>2</li>\n",
       "\t<li>2</li>\n",
       "\t<li>3</li>\n",
       "\t<li>3</li>\n",
       "\t<li>3</li>\n",
       "\t<li>4</li>\n",
       "\t<li>4</li>\n",
       "\t<li>4</li>\n",
       "\t<li>5</li>\n",
       "\t<li>5</li>\n",
       "\t<li>5</li>\n",
       "</ol>\n"
      ],
      "text/latex": [
       "\\begin{enumerate*}\n",
       "\\item 1\n",
       "\\item 1\n",
       "\\item 1\n",
       "\\item 2\n",
       "\\item 2\n",
       "\\item 2\n",
       "\\item 3\n",
       "\\item 3\n",
       "\\item 3\n",
       "\\item 4\n",
       "\\item 4\n",
       "\\item 4\n",
       "\\item 5\n",
       "\\item 5\n",
       "\\item 5\n",
       "\\end{enumerate*}\n"
      ],
      "text/markdown": [
       "1. 1\n",
       "2. 1\n",
       "3. 1\n",
       "4. 2\n",
       "5. 2\n",
       "6. 2\n",
       "7. 3\n",
       "8. 3\n",
       "9. 3\n",
       "10. 4\n",
       "11. 4\n",
       "12. 4\n",
       "13. 5\n",
       "14. 5\n",
       "15. 5\n",
       "\n",
       "\n"
      ],
      "text/plain": [
       " [1] 1 1 1 2 2 2 3 3 3 4 4 4 5 5 5"
      ]
     },
     "metadata": {},
     "output_type": "display_data"
    }
   ],
   "source": [
    "rep(1:5, each=3) #1~5까지 각각의 수를 3번씩 반복하여 벡터를 생성"
   ]
  },
  {
   "cell_type": "markdown",
   "metadata": {},
   "source": [
    "##### names() 함수로 이름을 부여할 수 있다."
   ]
  },
  {
   "cell_type": "code",
   "execution_count": 46,
   "metadata": {},
   "outputs": [
    {
     "data": {
      "text/html": [
       "<dl class=dl-horizontal>\n",
       "\t<dt>noh,</dt>\n",
       "\t\t<dd>1</dd>\n",
       "\t<dt>kim</dt>\n",
       "\t\t<dd>3</dd>\n",
       "\t<dt>park</dt>\n",
       "\t\t<dd>5</dd>\n",
       "\t<dt>jun</dt>\n",
       "\t\t<dd>7</dd>\n",
       "</dl>\n"
      ],
      "text/latex": [
       "\\begin{description*}\n",
       "\\item[noh,] 1\n",
       "\\item[kim] 3\n",
       "\\item[park] 5\n",
       "\\item[jun] 7\n",
       "\\end{description*}\n"
      ],
      "text/markdown": [
       "noh,\n",
       ":   1kim\n",
       ":   3park\n",
       ":   5jun\n",
       ":   7\n",
       "\n"
      ],
      "text/plain": [
       "noh,  kim park  jun \n",
       "   1    3    5    7 "
      ]
     },
     "metadata": {},
     "output_type": "display_data"
    }
   ],
   "source": [
    "x <- c(1,3,5,7)\n",
    "names(x) <- c('noh,','kim','park','jun')\n",
    "x"
   ]
  },
  {
   "cell_type": "markdown",
   "metadata": {},
   "source": [
    "#### 백터의 요소접근\n",
    "- 벡터의 데이터는 [인덱스]로 요소를 가져온다. 인덱스는 1부터 시작\n",
    "- 벡터의 **여러개의 데이터를 가져오기 위해 벡터의 형식**을 사용"
   ]
  },
  {
   "cell_type": "code",
   "execution_count": 53,
   "metadata": {},
   "outputs": [
    {
     "data": {
      "text/html": [
       "'a'"
      ],
      "text/latex": [
       "'a'"
      ],
      "text/markdown": [
       "'a'"
      ],
      "text/plain": [
       "[1] \"a\""
      ]
     },
     "metadata": {},
     "output_type": "display_data"
    },
    {
     "data": {
      "text/html": [
       "'d'"
      ],
      "text/latex": [
       "'d'"
      ],
      "text/markdown": [
       "'d'"
      ],
      "text/plain": [
       "[1] \"d\""
      ]
     },
     "metadata": {},
     "output_type": "display_data"
    }
   ],
   "source": [
    "x <- c('a','b','c','d')\n",
    "x[1]\n",
    "x[4]"
   ]
  },
  {
   "cell_type": "code",
   "execution_count": 60,
   "metadata": {},
   "outputs": [
    {
     "data": {
      "text/html": [
       "<ol class=list-inline>\n",
       "\t<li>'a'</li>\n",
       "\t<li>'c'</li>\n",
       "</ol>\n"
      ],
      "text/latex": [
       "\\begin{enumerate*}\n",
       "\\item 'a'\n",
       "\\item 'c'\n",
       "\\end{enumerate*}\n"
      ],
      "text/markdown": [
       "1. 'a'\n",
       "2. 'c'\n",
       "\n",
       "\n"
      ],
      "text/plain": [
       "[1] \"a\" \"c\""
      ]
     },
     "metadata": {},
     "output_type": "display_data"
    }
   ],
   "source": [
    "x[c(1,3)] # 1,3 인덱스의 값이 추출"
   ]
  },
  {
   "cell_type": "code",
   "execution_count": 61,
   "metadata": {},
   "outputs": [
    {
     "data": {
      "text/html": [
       "<ol class=list-inline>\n",
       "\t<li>'a'</li>\n",
       "\t<li>'b'</li>\n",
       "\t<li>'c'</li>\n",
       "</ol>\n"
      ],
      "text/latex": [
       "\\begin{enumerate*}\n",
       "\\item 'a'\n",
       "\\item 'b'\n",
       "\\item 'c'\n",
       "\\end{enumerate*}\n"
      ],
      "text/markdown": [
       "1. 'a'\n",
       "2. 'b'\n",
       "3. 'c'\n",
       "\n",
       "\n"
      ],
      "text/plain": [
       "[1] \"a\" \"b\" \"c\""
      ]
     },
     "metadata": {},
     "output_type": "display_data"
    }
   ],
   "source": [
    "x[c(1:3)] # 1~3 인덱스의 값이 추출"
   ]
  },
  {
   "cell_type": "markdown",
   "metadata": {},
   "source": [
    "##### [-] 음수의 인덱스를 사용하여 특정한 요소를 제거하고 가져온다"
   ]
  },
  {
   "cell_type": "code",
   "execution_count": 76,
   "metadata": {},
   "outputs": [
    {
     "data": {
      "text/html": [
       "<ol class=list-inline>\n",
       "\t<li>'a'</li>\n",
       "\t<li>'b'</li>\n",
       "\t<li>'d'</li>\n",
       "</ol>\n"
      ],
      "text/latex": [
       "\\begin{enumerate*}\n",
       "\\item 'a'\n",
       "\\item 'b'\n",
       "\\item 'd'\n",
       "\\end{enumerate*}\n"
      ],
      "text/markdown": [
       "1. 'a'\n",
       "2. 'b'\n",
       "3. 'd'\n",
       "\n",
       "\n"
      ],
      "text/plain": [
       "[1] \"a\" \"b\" \"d\""
      ]
     },
     "metadata": {},
     "output_type": "display_data"
    }
   ],
   "source": [
    "x[-3] # 'c' 만 빼고 x를 가져온다."
   ]
  },
  {
   "cell_type": "markdown",
   "metadata": {},
   "source": [
    "##### 백터의 길이를 알아내는 함수로는 length(), NROW()이다."
   ]
  },
  {
   "cell_type": "code",
   "execution_count": 66,
   "metadata": {},
   "outputs": [
    {
     "data": {
      "text/html": [
       "4"
      ],
      "text/latex": [
       "4"
      ],
      "text/markdown": [
       "4"
      ],
      "text/plain": [
       "[1] 4"
      ]
     },
     "metadata": {},
     "output_type": "display_data"
    },
    {
     "data": {
      "text/html": [
       "4"
      ],
      "text/latex": [
       "4"
      ],
      "text/markdown": [
       "4"
      ],
      "text/plain": [
       "[1] 4"
      ]
     },
     "metadata": {},
     "output_type": "display_data"
    }
   ],
   "source": [
    "NROW(x) # NROW()는 행렬에서 사용하는 함수이므로 N행 1열로 취급한다.\n",
    "length(x)"
   ]
  },
  {
   "cell_type": "markdown",
   "metadata": {},
   "source": [
    "##### %in%을 사용하여 벡터에 포함된 값을 확인할 수 있다."
   ]
  },
  {
   "cell_type": "code",
   "execution_count": 72,
   "metadata": {},
   "outputs": [
    {
     "data": {
      "text/html": [
       "TRUE"
      ],
      "text/latex": [
       "TRUE"
      ],
      "text/markdown": [
       "TRUE"
      ],
      "text/plain": [
       "[1] TRUE"
      ]
     },
     "metadata": {},
     "output_type": "display_data"
    },
    {
     "data": {
      "text/html": [
       "FALSE"
      ],
      "text/latex": [
       "FALSE"
      ],
      "text/markdown": [
       "FALSE"
      ],
      "text/plain": [
       "[1] FALSE"
      ]
     },
     "metadata": {},
     "output_type": "display_data"
    }
   ],
   "source": [
    "'c'%in%c('a','b','c','d')\n",
    "'e'%in%x"
   ]
  },
  {
   "cell_type": "markdown",
   "metadata": {},
   "source": [
    "### 2. 배열(Array) \n",
    "- 벡터와 행렬의 값을 나타낸다.\n",
    "- 한가지 형태의 자료형의 값으로 구성되어 있다.\n",
    "- 문자와 숫자를 혼합에서 사용하면 에러발생\n",
    "- **1차원 배열은 벡터, 2차원 배열은 행렬이라 한다.**\n",
    "- 3차원 이상의 차원 구조도 가능하다\n",
    "- dim은 dimension의 약자로 **차원**이란 뜻이다.\n",
    "- length로 배열의 크기를 알 수 있다.\n",
    "- 배열의 생성은 **dim(), array()**를 사용한다."
   ]
  },
  {
   "cell_type": "code",
   "execution_count": 79,
   "metadata": {},
   "outputs": [
    {
     "data": {
      "text/html": [
       "<table>\n",
       "<tbody>\n",
       "\t<tr><td>1 </td><td>5 </td><td> 9</td><td>13</td><td>17</td></tr>\n",
       "\t<tr><td>2 </td><td>6 </td><td>10</td><td>14</td><td>18</td></tr>\n",
       "\t<tr><td>3 </td><td>7 </td><td>11</td><td>15</td><td>19</td></tr>\n",
       "\t<tr><td>4 </td><td>8 </td><td>12</td><td>16</td><td>20</td></tr>\n",
       "</tbody>\n",
       "</table>\n"
      ],
      "text/latex": [
       "\\begin{tabular}{lllll}\n",
       "\t 1  & 5  &  9 & 13 & 17\\\\\n",
       "\t 2  & 6  & 10 & 14 & 18\\\\\n",
       "\t 3  & 7  & 11 & 15 & 19\\\\\n",
       "\t 4  & 8  & 12 & 16 & 20\\\\\n",
       "\\end{tabular}\n"
      ],
      "text/markdown": [
       "\n",
       "| 1  | 5  |  9 | 13 | 17 | \n",
       "| 2  | 6  | 10 | 14 | 18 | \n",
       "| 3  | 7  | 11 | 15 | 19 | \n",
       "| 4  | 8  | 12 | 16 | 20 | \n",
       "\n",
       "\n"
      ],
      "text/plain": [
       "     [,1] [,2] [,3] [,4] [,5]\n",
       "[1,] 1    5     9   13   17  \n",
       "[2,] 2    6    10   14   18  \n",
       "[3,] 3    7    11   15   19  \n",
       "[4,] 4    8    12   16   20  "
      ]
     },
     "metadata": {},
     "output_type": "display_data"
    }
   ],
   "source": [
    "array(1:20,dim=c(4,5))"
   ]
  },
  {
   "cell_type": "code",
   "execution_count": 84,
   "metadata": {},
   "outputs": [
    {
     "data": {
      "text/html": [
       "<ol class=list-inline>\n",
       "\t<li>1</li>\n",
       "\t<li>2</li>\n",
       "\t<li>3</li>\n",
       "\t<li>4</li>\n",
       "\t<li>5</li>\n",
       "\t<li>6</li>\n",
       "\t<li>7</li>\n",
       "\t<li>8</li>\n",
       "\t<li>9</li>\n",
       "\t<li>10</li>\n",
       "\t<li>11</li>\n",
       "\t<li>12</li>\n",
       "\t<li>13</li>\n",
       "\t<li>14</li>\n",
       "\t<li>15</li>\n",
       "\t<li>16</li>\n",
       "\t<li>17</li>\n",
       "\t<li>18</li>\n",
       "\t<li>19</li>\n",
       "\t<li>20</li>\n",
       "\t<li>1</li>\n",
       "\t<li>2</li>\n",
       "\t<li>3</li>\n",
       "\t<li>4</li>\n",
       "\t<li>5</li>\n",
       "\t<li>6</li>\n",
       "\t<li>7</li>\n",
       "\t<li>8</li>\n",
       "\t<li>9</li>\n",
       "\t<li>10</li>\n",
       "\t<li>11</li>\n",
       "\t<li>12</li>\n",
       "\t<li>13</li>\n",
       "\t<li>14</li>\n",
       "\t<li>15</li>\n",
       "\t<li>16</li>\n",
       "\t<li>17</li>\n",
       "\t<li>18</li>\n",
       "\t<li>19</li>\n",
       "\t<li>20</li>\n",
       "\t<li>1</li>\n",
       "\t<li>2</li>\n",
       "\t<li>3</li>\n",
       "\t<li>4</li>\n",
       "\t<li>5</li>\n",
       "\t<li>6</li>\n",
       "\t<li>7</li>\n",
       "\t<li>8</li>\n",
       "</ol>\n"
      ],
      "text/latex": [
       "\\begin{enumerate*}\n",
       "\\item 1\n",
       "\\item 2\n",
       "\\item 3\n",
       "\\item 4\n",
       "\\item 5\n",
       "\\item 6\n",
       "\\item 7\n",
       "\\item 8\n",
       "\\item 9\n",
       "\\item 10\n",
       "\\item 11\n",
       "\\item 12\n",
       "\\item 13\n",
       "\\item 14\n",
       "\\item 15\n",
       "\\item 16\n",
       "\\item 17\n",
       "\\item 18\n",
       "\\item 19\n",
       "\\item 20\n",
       "\\item 1\n",
       "\\item 2\n",
       "\\item 3\n",
       "\\item 4\n",
       "\\item 5\n",
       "\\item 6\n",
       "\\item 7\n",
       "\\item 8\n",
       "\\item 9\n",
       "\\item 10\n",
       "\\item 11\n",
       "\\item 12\n",
       "\\item 13\n",
       "\\item 14\n",
       "\\item 15\n",
       "\\item 16\n",
       "\\item 17\n",
       "\\item 18\n",
       "\\item 19\n",
       "\\item 20\n",
       "\\item 1\n",
       "\\item 2\n",
       "\\item 3\n",
       "\\item 4\n",
       "\\item 5\n",
       "\\item 6\n",
       "\\item 7\n",
       "\\item 8\n",
       "\\end{enumerate*}\n"
      ],
      "text/markdown": [
       "1. 1\n",
       "2. 2\n",
       "3. 3\n",
       "4. 4\n",
       "5. 5\n",
       "6. 6\n",
       "7. 7\n",
       "8. 8\n",
       "9. 9\n",
       "10. 10\n",
       "11. 11\n",
       "12. 12\n",
       "13. 13\n",
       "14. 14\n",
       "15. 15\n",
       "16. 16\n",
       "17. 17\n",
       "18. 18\n",
       "19. 19\n",
       "20. 20\n",
       "21. 1\n",
       "22. 2\n",
       "23. 3\n",
       "24. 4\n",
       "25. 5\n",
       "26. 6\n",
       "27. 7\n",
       "28. 8\n",
       "29. 9\n",
       "30. 10\n",
       "31. 11\n",
       "32. 12\n",
       "33. 13\n",
       "34. 14\n",
       "35. 15\n",
       "36. 16\n",
       "37. 17\n",
       "38. 18\n",
       "39. 19\n",
       "40. 20\n",
       "41. 1\n",
       "42. 2\n",
       "43. 3\n",
       "44. 4\n",
       "45. 5\n",
       "46. 6\n",
       "47. 7\n",
       "48. 8\n",
       "\n",
       "\n"
      ],
      "text/plain": [
       ", , 1\n",
       "\n",
       "     [,1] [,2] [,3] [,4]\n",
       "[1,]    1    5    9   13\n",
       "[2,]    2    6   10   14\n",
       "[3,]    3    7   11   15\n",
       "[4,]    4    8   12   16\n",
       "\n",
       ", , 2\n",
       "\n",
       "     [,1] [,2] [,3] [,4]\n",
       "[1,]   17    1    5    9\n",
       "[2,]   18    2    6   10\n",
       "[3,]   19    3    7   11\n",
       "[4,]   20    4    8   12\n",
       "\n",
       ", , 3\n",
       "\n",
       "     [,1] [,2] [,3] [,4]\n",
       "[1,]   13   17    1    5\n",
       "[2,]   14   18    2    6\n",
       "[3,]   15   19    3    7\n",
       "[4,]   16   20    4    8\n"
      ]
     },
     "metadata": {},
     "output_type": "display_data"
    }
   ],
   "source": [
    "array(1:20,dim=c(4,4,3))"
   ]
  },
  {
   "cell_type": "code",
   "execution_count": 85,
   "metadata": {},
   "outputs": [
    {
     "data": {
      "text/html": [
       "<ol class=list-inline>\n",
       "\t<li>1</li>\n",
       "\t<li>2</li>\n",
       "\t<li>3</li>\n",
       "\t<li>4</li>\n",
       "\t<li>5</li>\n",
       "\t<li>6</li>\n",
       "</ol>\n"
      ],
      "text/latex": [
       "\\begin{enumerate*}\n",
       "\\item 1\n",
       "\\item 2\n",
       "\\item 3\n",
       "\\item 4\n",
       "\\item 5\n",
       "\\item 6\n",
       "\\end{enumerate*}\n"
      ],
      "text/markdown": [
       "1. 1\n",
       "2. 2\n",
       "3. 3\n",
       "4. 4\n",
       "5. 5\n",
       "6. 6\n",
       "\n",
       "\n"
      ],
      "text/plain": [
       "[1] 1 2 3 4 5 6"
      ]
     },
     "metadata": {},
     "output_type": "display_data"
    }
   ],
   "source": [
    "array(1:6)"
   ]
  },
  {
   "cell_type": "code",
   "execution_count": 87,
   "metadata": {},
   "outputs": [
    {
     "data": {
      "text/html": [
       "<table>\n",
       "<tbody>\n",
       "\t<tr><td>1</td><td>3</td><td>5</td></tr>\n",
       "\t<tr><td>2</td><td>4</td><td>6</td></tr>\n",
       "</tbody>\n",
       "</table>\n"
      ],
      "text/latex": [
       "\\begin{tabular}{lll}\n",
       "\t 1 & 3 & 5\\\\\n",
       "\t 2 & 4 & 6\\\\\n",
       "\\end{tabular}\n"
      ],
      "text/markdown": [
       "\n",
       "| 1 | 3 | 5 | \n",
       "| 2 | 4 | 6 | \n",
       "\n",
       "\n"
      ],
      "text/plain": [
       "     [,1] [,2] [,3]\n",
       "[1,] 1    3    5   \n",
       "[2,] 2    4    6   "
      ]
     },
     "metadata": {},
     "output_type": "display_data"
    }
   ],
   "source": [
    "array(1:6,c(2,3))"
   ]
  },
  {
   "cell_type": "code",
   "execution_count": 94,
   "metadata": {},
   "outputs": [
    {
     "data": {
      "text/html": [
       "<ol class=list-inline>\n",
       "\t<li>1</li>\n",
       "\t<li>2</li>\n",
       "\t<li>3</li>\n",
       "\t<li>4</li>\n",
       "\t<li>5</li>\n",
       "\t<li>6</li>\n",
       "\t<li>7</li>\n",
       "\t<li>8</li>\n",
       "\t<li>9</li>\n",
       "\t<li>10</li>\n",
       "\t<li>11</li>\n",
       "\t<li>12</li>\n",
       "\t<li>13</li>\n",
       "\t<li>14</li>\n",
       "\t<li>15</li>\n",
       "\t<li>16</li>\n",
       "\t<li>17</li>\n",
       "\t<li>18</li>\n",
       "\t<li>19</li>\n",
       "\t<li>20</li>\n",
       "\t<li>21</li>\n",
       "\t<li>22</li>\n",
       "\t<li>23</li>\n",
       "\t<li>24</li>\n",
       "</ol>\n"
      ],
      "text/latex": [
       "\\begin{enumerate*}\n",
       "\\item 1\n",
       "\\item 2\n",
       "\\item 3\n",
       "\\item 4\n",
       "\\item 5\n",
       "\\item 6\n",
       "\\item 7\n",
       "\\item 8\n",
       "\\item 9\n",
       "\\item 10\n",
       "\\item 11\n",
       "\\item 12\n",
       "\\item 13\n",
       "\\item 14\n",
       "\\item 15\n",
       "\\item 16\n",
       "\\item 17\n",
       "\\item 18\n",
       "\\item 19\n",
       "\\item 20\n",
       "\\item 21\n",
       "\\item 22\n",
       "\\item 23\n",
       "\\item 24\n",
       "\\end{enumerate*}\n"
      ],
      "text/markdown": [
       "1. 1\n",
       "2. 2\n",
       "3. 3\n",
       "4. 4\n",
       "5. 5\n",
       "6. 6\n",
       "7. 7\n",
       "8. 8\n",
       "9. 9\n",
       "10. 10\n",
       "11. 11\n",
       "12. 12\n",
       "13. 13\n",
       "14. 14\n",
       "15. 15\n",
       "16. 16\n",
       "17. 17\n",
       "18. 18\n",
       "19. 19\n",
       "20. 20\n",
       "21. 21\n",
       "22. 22\n",
       "23. 23\n",
       "24. 24\n",
       "\n",
       "\n"
      ],
      "text/plain": [
       ", , 1\n",
       "\n",
       "     [,1] [,2] [,3] [,4]\n",
       "[1,]    1    4    7   10\n",
       "[2,]    2    5    8   11\n",
       "[3,]    3    6    9   12\n",
       "\n",
       ", , 2\n",
       "\n",
       "     [,1] [,2] [,3] [,4]\n",
       "[1,]   13   16   19   22\n",
       "[2,]   14   17   20   23\n",
       "[3,]   15   18   21   24\n"
      ]
     },
     "metadata": {},
     "output_type": "display_data"
    }
   ],
   "source": [
    "arr<-c(1:24)# 1~24 의 자료생성\n",
    "dim(arr) <- c(3,4,2) # dim()함수를 이용하여 3행 4열의 행렬 2개생성\n",
    "arr"
   ]
  },
  {
   "cell_type": "markdown",
   "metadata": {},
   "source": [
    "##### 같은 크기의 배열같의 사칙연산 및 같은 위치의 원소간의 연산을 수행할 수 있다.\n",
    "##### 숫자와 배열 또는 배열과 숫자간의 산술 연산도 가능하다."
   ]
  },
  {
   "cell_type": "code",
   "execution_count": 118,
   "metadata": {},
   "outputs": [
    {
     "data": {
      "text/html": [
       "<table>\n",
       "<tbody>\n",
       "\t<tr><td>1</td><td>3</td></tr>\n",
       "\t<tr><td>2</td><td>4</td></tr>\n",
       "</tbody>\n",
       "</table>\n"
      ],
      "text/latex": [
       "\\begin{tabular}{ll}\n",
       "\t 1 & 3\\\\\n",
       "\t 2 & 4\\\\\n",
       "\\end{tabular}\n"
      ],
      "text/markdown": [
       "\n",
       "| 1 | 3 | \n",
       "| 2 | 4 | \n",
       "\n",
       "\n"
      ],
      "text/plain": [
       "     [,1] [,2]\n",
       "[1,] 1    3   \n",
       "[2,] 2    4   "
      ]
     },
     "metadata": {},
     "output_type": "display_data"
    },
    {
     "data": {
      "text/html": [
       "<table>\n",
       "<tbody>\n",
       "\t<tr><td>4</td><td>2</td></tr>\n",
       "\t<tr><td>3</td><td>1</td></tr>\n",
       "</tbody>\n",
       "</table>\n"
      ],
      "text/latex": [
       "\\begin{tabular}{ll}\n",
       "\t 4 & 2\\\\\n",
       "\t 3 & 1\\\\\n",
       "\\end{tabular}\n"
      ],
      "text/markdown": [
       "\n",
       "| 4 | 2 | \n",
       "| 3 | 1 | \n",
       "\n",
       "\n"
      ],
      "text/plain": [
       "     [,1] [,2]\n",
       "[1,] 4    2   \n",
       "[2,] 3    1   "
      ]
     },
     "metadata": {},
     "output_type": "display_data"
    },
    {
     "data": {
      "text/html": [
       "<table>\n",
       "<tbody>\n",
       "\t<tr><td>5</td><td>5</td></tr>\n",
       "\t<tr><td>5</td><td>5</td></tr>\n",
       "</tbody>\n",
       "</table>\n"
      ],
      "text/latex": [
       "\\begin{tabular}{ll}\n",
       "\t 5 & 5\\\\\n",
       "\t 5 & 5\\\\\n",
       "\\end{tabular}\n"
      ],
      "text/markdown": [
       "\n",
       "| 5 | 5 | \n",
       "| 5 | 5 | \n",
       "\n",
       "\n"
      ],
      "text/plain": [
       "     [,1] [,2]\n",
       "[1,] 5    5   \n",
       "[2,] 5    5   "
      ]
     },
     "metadata": {},
     "output_type": "display_data"
    },
    {
     "data": {
      "text/html": [
       "<table>\n",
       "<tbody>\n",
       "\t<tr><td>4</td><td>6</td></tr>\n",
       "\t<tr><td>6</td><td>4</td></tr>\n",
       "</tbody>\n",
       "</table>\n"
      ],
      "text/latex": [
       "\\begin{tabular}{ll}\n",
       "\t 4 & 6\\\\\n",
       "\t 6 & 4\\\\\n",
       "\\end{tabular}\n"
      ],
      "text/markdown": [
       "\n",
       "| 4 | 6 | \n",
       "| 6 | 4 | \n",
       "\n",
       "\n"
      ],
      "text/plain": [
       "     [,1] [,2]\n",
       "[1,] 4    6   \n",
       "[2,] 6    4   "
      ]
     },
     "metadata": {},
     "output_type": "display_data"
    },
    {
     "data": {
      "text/html": [
       "<table>\n",
       "<tbody>\n",
       "\t<tr><td>13</td><td>5 </td></tr>\n",
       "\t<tr><td>20</td><td>8 </td></tr>\n",
       "</tbody>\n",
       "</table>\n"
      ],
      "text/latex": [
       "\\begin{tabular}{ll}\n",
       "\t 13 & 5 \\\\\n",
       "\t 20 & 8 \\\\\n",
       "\\end{tabular}\n"
      ],
      "text/markdown": [
       "\n",
       "| 13 | 5  | \n",
       "| 20 | 8  | \n",
       "\n",
       "\n"
      ],
      "text/plain": [
       "     [,1] [,2]\n",
       "[1,] 13   5   \n",
       "[2,] 20   8   "
      ]
     },
     "metadata": {},
     "output_type": "display_data"
    }
   ],
   "source": [
    "arr1 <- array(1:4, dim=c(2,2))\n",
    "arr2 <- array(4:1, dim=c(2,2))\n",
    "arr1\n",
    "arr2\n",
    "arr1 + arr2\n",
    "arr1 * arr2 # 두 배열 원소들의 곱의 합\n",
    "arr1 %*% arr2 # 행렬곱"
   ]
  },
  {
   "cell_type": "markdown",
   "metadata": {},
   "source": [
    "### 3. 행렬\n",
    "- 표형식의 데이터를 분석함수를통해 사용하기 위해 행렬화 해서 사용한다.\n",
    "- 행렬은 merticx()함수를 이용하여 생성한다.\n",
    "- 벡터에 차원을 추가하여서도 행렬을 만들수 있다."
   ]
  },
  {
   "cell_type": "code",
   "execution_count": 125,
   "metadata": {},
   "outputs": [
    {
     "data": {
      "text/html": [
       "<ol class=list-inline>\n",
       "\t<li>1</li>\n",
       "\t<li>2</li>\n",
       "\t<li>3</li>\n",
       "\t<li>4</li>\n",
       "\t<li>5</li>\n",
       "\t<li>6</li>\n",
       "\t<li>7</li>\n",
       "\t<li>8</li>\n",
       "\t<li>9</li>\n",
       "</ol>\n"
      ],
      "text/latex": [
       "\\begin{enumerate*}\n",
       "\\item 1\n",
       "\\item 2\n",
       "\\item 3\n",
       "\\item 4\n",
       "\\item 5\n",
       "\\item 6\n",
       "\\item 7\n",
       "\\item 8\n",
       "\\item 9\n",
       "\\end{enumerate*}\n"
      ],
      "text/markdown": [
       "1. 1\n",
       "2. 2\n",
       "3. 3\n",
       "4. 4\n",
       "5. 5\n",
       "6. 6\n",
       "7. 7\n",
       "8. 8\n",
       "9. 9\n",
       "\n",
       "\n"
      ],
      "text/plain": [
       "[1] 1 2 3 4 5 6 7 8 9"
      ]
     },
     "metadata": {},
     "output_type": "display_data"
    }
   ],
   "source": [
    "a<-1:9\n",
    "a"
   ]
  },
  {
   "cell_type": "code",
   "execution_count": 128,
   "metadata": {},
   "outputs": [
    {
     "data": {
      "text/html": [
       "<table>\n",
       "<tbody>\n",
       "\t<tr><td>1</td><td>4</td><td>7</td></tr>\n",
       "\t<tr><td>2</td><td>5</td><td>8</td></tr>\n",
       "\t<tr><td>3</td><td>6</td><td>9</td></tr>\n",
       "</tbody>\n",
       "</table>\n"
      ],
      "text/latex": [
       "\\begin{tabular}{lll}\n",
       "\t 1 & 4 & 7\\\\\n",
       "\t 2 & 5 & 8\\\\\n",
       "\t 3 & 6 & 9\\\\\n",
       "\\end{tabular}\n"
      ],
      "text/markdown": [
       "\n",
       "| 1 | 4 | 7 | \n",
       "| 2 | 5 | 8 | \n",
       "| 3 | 6 | 9 | \n",
       "\n",
       "\n"
      ],
      "text/plain": [
       "     [,1] [,2] [,3]\n",
       "[1,] 1    4    7   \n",
       "[2,] 2    5    8   \n",
       "[3,] 3    6    9   "
      ]
     },
     "metadata": {},
     "output_type": "display_data"
    }
   ],
   "source": [
    "dim(a) <- c(3,3)\n",
    "a"
   ]
  },
  {
   "cell_type": "code",
   "execution_count": 130,
   "metadata": {},
   "outputs": [
    {
     "data": {
      "text/html": [
       "<table>\n",
       "<tbody>\n",
       "\t<tr><td>1 </td><td>3 </td><td>5 </td><td>7 </td><td> 9</td></tr>\n",
       "\t<tr><td>2 </td><td>4 </td><td>6 </td><td>8 </td><td>10</td></tr>\n",
       "</tbody>\n",
       "</table>\n"
      ],
      "text/latex": [
       "\\begin{tabular}{lllll}\n",
       "\t 1  & 3  & 5  & 7  &  9\\\\\n",
       "\t 2  & 4  & 6  & 8  & 10\\\\\n",
       "\\end{tabular}\n"
      ],
      "text/markdown": [
       "\n",
       "| 1  | 3  | 5  | 7  |  9 | \n",
       "| 2  | 4  | 6  | 8  | 10 | \n",
       "\n",
       "\n"
      ],
      "text/plain": [
       "     [,1] [,2] [,3] [,4] [,5]\n",
       "[1,] 1    3    5    7     9  \n",
       "[2,] 2    4    6    8    10  "
      ]
     },
     "metadata": {},
     "output_type": "display_data"
    }
   ],
   "source": [
    "mat1 <- matrix(1:10, nrow=2) # 1~10개의 행으로 만든다.\n",
    "mat1"
   ]
  },
  {
   "cell_type": "code",
   "execution_count": 134,
   "metadata": {},
   "outputs": [
    {
     "data": {
      "text/html": [
       "<table>\n",
       "<tbody>\n",
       "\t<tr><td>1 </td><td> 6</td></tr>\n",
       "\t<tr><td>2 </td><td> 7</td></tr>\n",
       "\t<tr><td>3 </td><td> 8</td></tr>\n",
       "\t<tr><td>4 </td><td> 9</td></tr>\n",
       "\t<tr><td>5 </td><td>10</td></tr>\n",
       "</tbody>\n",
       "</table>\n"
      ],
      "text/latex": [
       "\\begin{tabular}{ll}\n",
       "\t 1  &  6\\\\\n",
       "\t 2  &  7\\\\\n",
       "\t 3  &  8\\\\\n",
       "\t 4  &  9\\\\\n",
       "\t 5  & 10\\\\\n",
       "\\end{tabular}\n"
      ],
      "text/markdown": [
       "\n",
       "| 1  |  6 | \n",
       "| 2  |  7 | \n",
       "| 3  |  8 | \n",
       "| 4  |  9 | \n",
       "| 5  | 10 | \n",
       "\n",
       "\n"
      ],
      "text/plain": [
       "     [,1] [,2]\n",
       "[1,] 1     6  \n",
       "[2,] 2     7  \n",
       "[3,] 3     8  \n",
       "[4,] 4     9  \n",
       "[5,] 5    10  "
      ]
     },
     "metadata": {},
     "output_type": "display_data"
    }
   ],
   "source": [
    "mat2 <- matrix(1:10, ncol=2) # 1~10 2개의 열로 만든다\n",
    "mat2"
   ]
  },
  {
   "cell_type": "markdown",
   "metadata": {},
   "source": [
    "##### 행과 열 이름주기"
   ]
  },
  {
   "cell_type": "code",
   "execution_count": 142,
   "metadata": {},
   "outputs": [
    {
     "data": {
      "text/html": [
       "<table>\n",
       "<thead><tr><th></th><th scope=col>1열</th><th scope=col>2열</th><th scope=col>3열</th></tr></thead>\n",
       "<tbody>\n",
       "\t<tr><th scope=row>1행</th><td>1</td><td>2</td><td>3</td></tr>\n",
       "\t<tr><th scope=row>2행</th><td>4</td><td>5</td><td>6</td></tr>\n",
       "</tbody>\n",
       "</table>\n"
      ],
      "text/latex": [
       "\\begin{tabular}{r|lll}\n",
       "  & 1열 & 2열 & 3열\\\\\n",
       "\\hline\n",
       "\t1행 & 1 & 2 & 3\\\\\n",
       "\t2행 & 4 & 5 & 6\\\\\n",
       "\\end{tabular}\n"
      ],
      "text/markdown": [
       "\n",
       "| <!--/--> | 1열 | 2열 | 3열 | \n",
       "|---|---|\n",
       "| 1행 | 1 | 2 | 3 | \n",
       "| 2행 | 4 | 5 | 6 | \n",
       "\n",
       "\n"
      ],
      "text/plain": [
       "    1열 2열 3열\n",
       "1행 1   2   3  \n",
       "2행 4   5   6  "
      ]
     },
     "metadata": {},
     "output_type": "display_data"
    }
   ],
   "source": [
    "names <- list(c(\"1행\",\"2행\"), c(\"1열\", \"2열\", \"3열\"))\n",
    "matrix(1:6, nrow=2, byrow=TRUE, dimnames=names)\n",
    "# 행을 우선적으로 만든다 byrow = True"
   ]
  },
  {
   "cell_type": "markdown",
   "metadata": {},
   "source": [
    "## 4. 리스트(list)\n",
    "- 여러데이터 타입을 가지는 데이터 구조이다.\n",
    "- 리스트요소에 이름을 부여할 수 있다.\n",
    "- list()함수로 리스트를 생성한다."
   ]
  },
  {
   "cell_type": "code",
   "execution_count": 145,
   "metadata": {},
   "outputs": [
    {
     "data": {
      "text/html": [
       "<ol>\n",
       "\t<li>'홍길동'</li>\n",
       "\t<li>'2016001'</li>\n",
       "\t<li>'20'</li>\n",
       "\t<li><ol class=list-inline>\n",
       "\t<li>'융합소프트웨어'</li>\n",
       "\t<li>'빅데이터 관리'</li>\n",
       "</ol>\n",
       "</li>\n",
       "</ol>\n"
      ],
      "text/latex": [
       "\\begin{enumerate}\n",
       "\\item '홍길동'\n",
       "\\item '2016001'\n",
       "\\item '20'\n",
       "\\item \\begin{enumerate*}\n",
       "\\item '융합소프트웨어'\n",
       "\\item '빅데이터 관리'\n",
       "\\end{enumerate*}\n",
       "\n",
       "\\end{enumerate}\n"
      ],
      "text/markdown": [
       "1. '홍길동'\n",
       "2. '2016001'\n",
       "3. '20'\n",
       "4. 1. '융합소프트웨어'\n",
       "2. '빅데이터 관리'\n",
       "\n",
       "\n",
       "\n",
       "\n",
       "\n"
      ],
      "text/plain": [
       "[[1]]\n",
       "[1] \"홍길동\"\n",
       "\n",
       "[[2]]\n",
       "[1] \"2016001\"\n",
       "\n",
       "[[3]]\n",
       "[1] \"20\"\n",
       "\n",
       "[[4]]\n",
       "[1] \"융합소프트웨어\" \"빅데이터 관리\" \n"
      ]
     },
     "metadata": {},
     "output_type": "display_data"
    }
   ],
   "source": [
    "x <- list(\"홍길동\", \"2016001\", \"20\", c(\"융합소프트웨어\", \"빅데이터 관리\"))\n",
    "x"
   ]
  },
  {
   "cell_type": "code",
   "execution_count": 149,
   "metadata": {},
   "outputs": [
    {
     "data": {
      "text/html": [
       "<dl>\n",
       "\t<dt>$성명</dt>\n",
       "\t\t<dd>'홍길동'</dd>\n",
       "\t<dt>$학번</dt>\n",
       "\t\t<dd>'2016001'</dd>\n",
       "\t<dt>$나이</dt>\n",
       "\t\t<dd>20</dd>\n",
       "\t<dt>$수강과목</dt>\n",
       "\t\t<dd><ol class=list-inline>\n",
       "\t<li>'융합소프트웨어'</li>\n",
       "\t<li>'빅데이터 관리'</li>\n",
       "</ol>\n",
       "</dd>\n",
       "</dl>\n"
      ],
      "text/latex": [
       "\\begin{description}\n",
       "\\item[\\$성명] '홍길동'\n",
       "\\item[\\$학번] '2016001'\n",
       "\\item[\\$나이] 20\n",
       "\\item[\\$수강과목] \\begin{enumerate*}\n",
       "\\item '융합소프트웨어'\n",
       "\\item '빅데이터 관리'\n",
       "\\end{enumerate*}\n",
       "\n",
       "\\end{description}\n"
      ],
      "text/markdown": [
       "$성명\n",
       ":   '홍길동'\n",
       "$학번\n",
       ":   '2016001'\n",
       "$나이\n",
       ":   20\n",
       "$수강과목\n",
       ":   1. '융합소프트웨어'\n",
       "2. '빅데이터 관리'\n",
       "\n",
       "\n",
       "\n",
       "\n",
       "\n"
      ],
      "text/plain": [
       "$성명\n",
       "[1] \"홍길동\"\n",
       "\n",
       "$학번\n",
       "[1] \"2016001\"\n",
       "\n",
       "$나이\n",
       "[1] 20\n",
       "\n",
       "$수강과목\n",
       "[1] \"융합소프트웨어\" \"빅데이터 관리\" \n"
      ]
     },
     "metadata": {},
     "output_type": "display_data"
    }
   ],
   "source": [
    "y <- list(\"성명\"=\"홍길동\", \"학번\"=\"2016001\", \"나이\"=20, \"수강과목\"=c(\"융합소프트웨어\",\n",
    "\"빅데이터 관리\"))\n",
    "y"
   ]
  },
  {
   "cell_type": "code",
   "execution_count": 147,
   "metadata": {},
   "outputs": [
    {
     "data": {
      "text/html": [
       "<dl>\n",
       "\t<dt>$성명</dt>\n",
       "\t\t<dd>'홍길동'</dd>\n",
       "\t<dt>$학번</dt>\n",
       "\t\t<dd>'2016001'</dd>\n",
       "\t<dt>$나이</dt>\n",
       "\t\t<dd>20</dd>\n",
       "\t<dt>$수강과목</dt>\n",
       "\t\t<dd><ol class=list-inline>\n",
       "\t<li>'융합소프트웨어'</li>\n",
       "\t<li>'빅데이터 관리'</li>\n",
       "</ol>\n",
       "</dd>\n",
       "</dl>\n"
      ],
      "text/latex": [
       "\\begin{description}\n",
       "\\item[\\$성명] '홍길동'\n",
       "\\item[\\$학번] '2016001'\n",
       "\\item[\\$나이] 20\n",
       "\\item[\\$수강과목] \\begin{enumerate*}\n",
       "\\item '융합소프트웨어'\n",
       "\\item '빅데이터 관리'\n",
       "\\end{enumerate*}\n",
       "\n",
       "\\end{description}\n"
      ],
      "text/markdown": [
       "$성명\n",
       ":   '홍길동'\n",
       "$학번\n",
       ":   '2016001'\n",
       "$나이\n",
       ":   20\n",
       "$수강과목\n",
       ":   1. '융합소프트웨어'\n",
       "2. '빅데이터 관리'\n",
       "\n",
       "\n",
       "\n",
       "\n",
       "\n"
      ],
      "text/plain": [
       "$성명\n",
       "[1] \"홍길동\"\n",
       "\n",
       "$학번\n",
       "[1] \"2016001\"\n",
       "\n",
       "$나이\n",
       "[1] 20\n",
       "\n",
       "$수강과목\n",
       "[1] \"융합소프트웨어\" \"빅데이터 관리\" \n"
      ]
     },
     "metadata": {},
     "output_type": "display_data"
    }
   ],
   "source": [
    "# 위 결과와 동일\n",
    "x<-list(성명=\"홍길동\", 학번=\"2016001\",나이=20,수강과목=c(\"융합소프트웨어\", \"빅데이터 관리\"))\n",
    "x"
   ]
  },
  {
   "cell_type": "markdown",
   "metadata": {},
   "source": [
    "##### 객체 값의 출력"
   ]
  },
  {
   "cell_type": "code",
   "execution_count": 156,
   "metadata": {},
   "outputs": [
    {
     "data": {
      "text/html": [
       "<strong>$성명</strong> = '홍길동'"
      ],
      "text/latex": [
       "\\textbf{\\$성명} = '홍길동'"
      ],
      "text/markdown": [
       "**$성명** = '홍길동'"
      ],
      "text/plain": [
       "$성명\n",
       "[1] \"홍길동\"\n"
      ]
     },
     "metadata": {},
     "output_type": "display_data"
    }
   ],
   "source": [
    "y[\"성명\"]"
   ]
  },
  {
   "cell_type": "code",
   "execution_count": 157,
   "metadata": {},
   "outputs": [
    {
     "data": {
      "text/html": [
       "'홍길동'"
      ],
      "text/latex": [
       "'홍길동'"
      ],
      "text/markdown": [
       "'홍길동'"
      ],
      "text/plain": [
       "[1] \"홍길동\""
      ]
     },
     "metadata": {},
     "output_type": "display_data"
    }
   ],
   "source": [
    "y[[\"성명\"]]"
   ]
  },
  {
   "cell_type": "code",
   "execution_count": 158,
   "metadata": {},
   "outputs": [
    {
     "data": {
      "text/html": [
       "'홍길동'"
      ],
      "text/latex": [
       "'홍길동'"
      ],
      "text/markdown": [
       "'홍길동'"
      ],
      "text/plain": [
       "[1] \"홍길동\""
      ]
     },
     "metadata": {},
     "output_type": "display_data"
    }
   ],
   "source": [
    "y$성명"
   ]
  },
  {
   "cell_type": "markdown",
   "metadata": {},
   "source": [
    "## 5. 데이터프레임(data frame)\n",
    "- 동일한 속성들을 가지는 여러개체들로 구성되며, 각 속성들의 데이터 유형은 서로 다를 수 있다.\n",
    "- 데이터프레임은 data.frame()함수로 생성한다."
   ]
  },
  {
   "cell_type": "markdown",
   "metadata": {},
   "source": [
    "##### 두 명의 고객정보에 대한 데이터 프레임 만들기"
   ]
  },
  {
   "cell_type": "code",
   "execution_count": 168,
   "metadata": {},
   "outputs": [
    {
     "data": {
      "text/html": [
       "<table>\n",
       "<thead><tr><th scope=col>성명</th><th scope=col>나이</th><th scope=col>주소</th></tr></thead>\n",
       "<tbody>\n",
       "\t<tr><td>홍길동</td><td>20    </td><td>서울  </td></tr>\n",
       "\t<tr><td>손오공</td><td>30    </td><td>부산  </td></tr>\n",
       "</tbody>\n",
       "</table>\n"
      ],
      "text/latex": [
       "\\begin{tabular}{r|lll}\n",
       " 성명 & 나이 & 주소\\\\\n",
       "\\hline\n",
       "\t 홍길동 & 20     & 서울  \\\\\n",
       "\t 손오공 & 30     & 부산  \\\\\n",
       "\\end{tabular}\n"
      ],
      "text/markdown": [
       "\n",
       "성명 | 나이 | 주소 | \n",
       "|---|---|\n",
       "| 홍길동 | 20     | 서울   | \n",
       "| 손오공 | 30     | 부산   | \n",
       "\n",
       "\n"
      ],
      "text/plain": [
       "  성명   나이 주소\n",
       "1 홍길동 20   서울\n",
       "2 손오공 30   부산"
      ]
     },
     "metadata": {},
     "output_type": "display_data"
    },
    {
     "data": {
      "text/html": [
       "<table>\n",
       "<thead><tr><th scope=col>성명</th><th scope=col>나이</th><th scope=col>주소</th></tr></thead>\n",
       "<tbody>\n",
       "\t<tr><td>홍길동</td><td>20    </td><td>서울  </td></tr>\n",
       "\t<tr><td>손오공</td><td>30    </td><td>부산  </td></tr>\n",
       "</tbody>\n",
       "</table>\n"
      ],
      "text/latex": [
       "\\begin{tabular}{r|lll}\n",
       " 성명 & 나이 & 주소\\\\\n",
       "\\hline\n",
       "\t 홍길동 & 20     & 서울  \\\\\n",
       "\t 손오공 & 30     & 부산  \\\\\n",
       "\\end{tabular}\n"
      ],
      "text/markdown": [
       "\n",
       "성명 | 나이 | 주소 | \n",
       "|---|---|\n",
       "| 홍길동 | 20     | 서울   | \n",
       "| 손오공 | 30     | 부산   | \n",
       "\n",
       "\n"
      ],
      "text/plain": [
       "  성명   나이 주소\n",
       "1 홍길동 20   서울\n",
       "2 손오공 30   부산"
      ]
     },
     "metadata": {},
     "output_type": "display_data"
    }
   ],
   "source": [
    "x <- data.frame(성명=c(\"홍길동\", \"손오공\"), 나이=c(20,30), 주소=c(\"서울\",\"부산\"))\n",
    "x\n",
    "\n",
    "# 동일한 결과\n",
    "x <- data.frame(\"성명\"=c(\"홍길동\", \"손오공\"), \"나이\"=c(20, 30), \"주소\"=c(\"서울\", \"부산\"))\n",
    "x"
   ]
  },
  {
   "cell_type": "markdown",
   "metadata": {},
   "source": [
    "##### 열과 행 단위 추가"
   ]
  },
  {
   "cell_type": "code",
   "execution_count": 183,
   "metadata": {},
   "outputs": [
    {
     "data": {
      "text/html": [
       "<table>\n",
       "<thead><tr><th scope=col>성명</th><th scope=col>나이</th><th scope=col>주소</th><th scope=col>학과</th></tr></thead>\n",
       "<tbody>\n",
       "\t<tr><td>홍길동</td><td>20    </td><td>서울  </td><td>e-비즈</td></tr>\n",
       "\t<tr><td>손오공</td><td>30    </td><td>부산  </td><td>경영  </td></tr>\n",
       "\t<tr><td>장발장</td><td>40    </td><td>파리  </td><td>행정  </td></tr>\n",
       "\t<tr><td>장발장</td><td>40    </td><td>파리  </td><td>행정  </td></tr>\n",
       "\t<tr><td>장발장</td><td>40    </td><td>파리  </td><td>행정  </td></tr>\n",
       "</tbody>\n",
       "</table>\n"
      ],
      "text/latex": [
       "\\begin{tabular}{r|llll}\n",
       " 성명 & 나이 & 주소 & 학과\\\\\n",
       "\\hline\n",
       "\t 홍길동 & 20     & 서울   & e-비즈\\\\\n",
       "\t 손오공 & 30     & 부산   & 경영  \\\\\n",
       "\t 장발장 & 40     & 파리   & 행정  \\\\\n",
       "\t 장발장 & 40     & 파리   & 행정  \\\\\n",
       "\t 장발장 & 40     & 파리   & 행정  \\\\\n",
       "\\end{tabular}\n"
      ],
      "text/markdown": [
       "\n",
       "성명 | 나이 | 주소 | 학과 | \n",
       "|---|---|---|---|---|\n",
       "| 홍길동 | 20     | 서울   | e-비즈 | \n",
       "| 손오공 | 30     | 부산   | 경영   | \n",
       "| 장발장 | 40     | 파리   | 행정   | \n",
       "| 장발장 | 40     | 파리   | 행정   | \n",
       "| 장발장 | 40     | 파리   | 행정   | \n",
       "\n",
       "\n"
      ],
      "text/plain": [
       "  성명   나이 주소 학과  \n",
       "1 홍길동 20   서울 e-비즈\n",
       "2 손오공 30   부산 경영  \n",
       "3 장발장 40   파리 행정  \n",
       "4 장발장 40   파리 행정  \n",
       "5 장발장 40   파리 행정  "
      ]
     },
     "metadata": {},
     "output_type": "display_data"
    }
   ],
   "source": [
    "# x<-cbind(x,학과=c(\"e-비즈\",\"경영\"))\n",
    "# x\n",
    "\n",
    "x<-rbind(x,data.frame(성명=\"장발장\",나이=40,주소=\"파리\",학과=\"행정\"))\n",
    "x"
   ]
  },
  {
   "cell_type": "markdown",
   "metadata": {},
   "source": [
    "##### 요소 값 보기"
   ]
  },
  {
   "cell_type": "code",
   "execution_count": 186,
   "metadata": {},
   "outputs": [
    {
     "data": {
      "text/html": [
       "40"
      ],
      "text/latex": [
       "40"
      ],
      "text/markdown": [
       "40"
      ],
      "text/plain": [
       "[1] 40"
      ]
     },
     "metadata": {},
     "output_type": "display_data"
    }
   ],
   "source": [
    "x[3,2]"
   ]
  },
  {
   "cell_type": "code",
   "execution_count": 187,
   "metadata": {},
   "outputs": [
    {
     "data": {
      "text/html": [
       "<table>\n",
       "<thead><tr><th></th><th scope=col>성명</th><th scope=col>나이</th><th scope=col>주소</th><th scope=col>학과</th></tr></thead>\n",
       "<tbody>\n",
       "\t<tr><th scope=row>3</th><td>장발장</td><td>40    </td><td>파리  </td><td>행정  </td></tr>\n",
       "</tbody>\n",
       "</table>\n"
      ],
      "text/latex": [
       "\\begin{tabular}{r|llll}\n",
       "  & 성명 & 나이 & 주소 & 학과\\\\\n",
       "\\hline\n",
       "\t3 & 장발장 & 40     & 파리   & 행정  \\\\\n",
       "\\end{tabular}\n"
      ],
      "text/markdown": [
       "\n",
       "| <!--/--> | 성명 | 나이 | 주소 | 학과 | \n",
       "|---|\n",
       "| 3 | 장발장 | 40     | 파리   | 행정   | \n",
       "\n",
       "\n"
      ],
      "text/plain": [
       "  성명   나이 주소 학과\n",
       "3 장발장 40   파리 행정"
      ]
     },
     "metadata": {},
     "output_type": "display_data"
    }
   ],
   "source": [
    "x[3,]"
   ]
  },
  {
   "cell_type": "code",
   "execution_count": 188,
   "metadata": {},
   "outputs": [
    {
     "data": {
      "text/html": [
       "<ol class=list-inline>\n",
       "\t<li>20</li>\n",
       "\t<li>30</li>\n",
       "\t<li>40</li>\n",
       "\t<li>40</li>\n",
       "\t<li>40</li>\n",
       "</ol>\n"
      ],
      "text/latex": [
       "\\begin{enumerate*}\n",
       "\\item 20\n",
       "\\item 30\n",
       "\\item 40\n",
       "\\item 40\n",
       "\\item 40\n",
       "\\end{enumerate*}\n"
      ],
      "text/markdown": [
       "1. 20\n",
       "2. 30\n",
       "3. 40\n",
       "4. 40\n",
       "5. 40\n",
       "\n",
       "\n"
      ],
      "text/plain": [
       "[1] 20 30 40 40 40"
      ]
     },
     "metadata": {},
     "output_type": "display_data"
    }
   ],
   "source": [
    "x[,2]"
   ]
  },
  {
   "cell_type": "code",
   "execution_count": 189,
   "metadata": {},
   "outputs": [
    {
     "data": {
      "text/html": [
       "<table>\n",
       "<thead><tr><th></th><th scope=col>성명</th><th scope=col>나이</th><th scope=col>주소</th><th scope=col>학과</th></tr></thead>\n",
       "<tbody>\n",
       "\t<tr><th scope=row>1</th><td>홍길동</td><td>20    </td><td>서울  </td><td>e-비즈</td></tr>\n",
       "\t<tr><th scope=row>3</th><td>장발장</td><td>40    </td><td>파리  </td><td>행정  </td></tr>\n",
       "\t<tr><th scope=row>4</th><td>장발장</td><td>40    </td><td>파리  </td><td>행정  </td></tr>\n",
       "\t<tr><th scope=row>5</th><td>장발장</td><td>40    </td><td>파리  </td><td>행정  </td></tr>\n",
       "</tbody>\n",
       "</table>\n"
      ],
      "text/latex": [
       "\\begin{tabular}{r|llll}\n",
       "  & 성명 & 나이 & 주소 & 학과\\\\\n",
       "\\hline\n",
       "\t1 & 홍길동 & 20     & 서울   & e-비즈\\\\\n",
       "\t3 & 장발장 & 40     & 파리   & 행정  \\\\\n",
       "\t4 & 장발장 & 40     & 파리   & 행정  \\\\\n",
       "\t5 & 장발장 & 40     & 파리   & 행정  \\\\\n",
       "\\end{tabular}\n"
      ],
      "text/markdown": [
       "\n",
       "| <!--/--> | 성명 | 나이 | 주소 | 학과 | \n",
       "|---|---|---|---|\n",
       "| 1 | 홍길동 | 20     | 서울   | e-비즈 | \n",
       "| 3 | 장발장 | 40     | 파리   | 행정   | \n",
       "| 4 | 장발장 | 40     | 파리   | 행정   | \n",
       "| 5 | 장발장 | 40     | 파리   | 행정   | \n",
       "\n",
       "\n"
      ],
      "text/plain": [
       "  성명   나이 주소 학과  \n",
       "1 홍길동 20   서울 e-비즈\n",
       "3 장발장 40   파리 행정  \n",
       "4 장발장 40   파리 행정  \n",
       "5 장발장 40   파리 행정  "
      ]
     },
     "metadata": {},
     "output_type": "display_data"
    }
   ],
   "source": [
    "x[-2,]"
   ]
  },
  {
   "cell_type": "code",
   "execution_count": 190,
   "metadata": {},
   "outputs": [
    {
     "data": {
      "text/html": [
       "<table>\n",
       "<thead><tr><th scope=col>성명</th></tr></thead>\n",
       "<tbody>\n",
       "\t<tr><td>홍길동</td></tr>\n",
       "\t<tr><td>손오공</td></tr>\n",
       "\t<tr><td>장발장</td></tr>\n",
       "\t<tr><td>장발장</td></tr>\n",
       "\t<tr><td>장발장</td></tr>\n",
       "</tbody>\n",
       "</table>\n"
      ],
      "text/latex": [
       "\\begin{tabular}{r|l}\n",
       " 성명\\\\\n",
       "\\hline\n",
       "\t 홍길동\\\\\n",
       "\t 손오공\\\\\n",
       "\t 장발장\\\\\n",
       "\t 장발장\\\\\n",
       "\t 장발장\\\\\n",
       "\\end{tabular}\n"
      ],
      "text/markdown": [
       "\n",
       "성명 | \n",
       "|---|---|---|---|---|\n",
       "| 홍길동 | \n",
       "| 손오공 | \n",
       "| 장발장 | \n",
       "| 장발장 | \n",
       "| 장발장 | \n",
       "\n",
       "\n"
      ],
      "text/plain": [
       "  성명  \n",
       "1 홍길동\n",
       "2 손오공\n",
       "3 장발장\n",
       "4 장발장\n",
       "5 장발장"
      ]
     },
     "metadata": {},
     "output_type": "display_data"
    }
   ],
   "source": [
    "x[\"성명\"]"
   ]
  },
  {
   "cell_type": "code",
   "execution_count": 191,
   "metadata": {},
   "outputs": [
    {
     "data": {
      "text/html": [
       "<ol class=list-inline>\n",
       "\t<li>홍길동</li>\n",
       "\t<li>손오공</li>\n",
       "\t<li>장발장</li>\n",
       "\t<li>장발장</li>\n",
       "\t<li>장발장</li>\n",
       "</ol>\n",
       "\n",
       "<details>\n",
       "\t<summary style=display:list-item;cursor:pointer>\n",
       "\t\t<strong>Levels</strong>:\n",
       "\t</summary>\n",
       "\t<ol class=list-inline>\n",
       "\t\t<li>'손오공'</li>\n",
       "\t\t<li>'홍길동'</li>\n",
       "\t\t<li>'장발장'</li>\n",
       "\t</ol>\n",
       "</details>"
      ],
      "text/latex": [
       "\\begin{enumerate*}\n",
       "\\item 홍길동\n",
       "\\item 손오공\n",
       "\\item 장발장\n",
       "\\item 장발장\n",
       "\\item 장발장\n",
       "\\end{enumerate*}\n",
       "\n",
       "\\emph{Levels}: \\begin{enumerate*}\n",
       "\\item '손오공'\n",
       "\\item '홍길동'\n",
       "\\item '장발장'\n",
       "\\end{enumerate*}\n"
      ],
      "text/markdown": [
       "1. 홍길동\n",
       "2. 손오공\n",
       "3. 장발장\n",
       "4. 장발장\n",
       "5. 장발장\n",
       "\n",
       "\n",
       "\n",
       "**Levels**: 1. '손오공'\n",
       "2. '홍길동'\n",
       "3. '장발장'\n",
       "\n",
       "\n"
      ],
      "text/plain": [
       "[1] 홍길동 손오공 장발장 장발장 장발장\n",
       "Levels: 손오공 홍길동 장발장"
      ]
     },
     "metadata": {},
     "output_type": "display_data"
    }
   ],
   "source": [
    "x$성명"
   ]
  },
  {
   "cell_type": "code",
   "execution_count": 198,
   "metadata": {},
   "outputs": [
    {
     "data": {
      "text/html": [
       "<ol class=list-inline>\n",
       "\t<li>홍길동</li>\n",
       "\t<li>손오공</li>\n",
       "\t<li>장발장</li>\n",
       "\t<li>장발장</li>\n",
       "\t<li>장발장</li>\n",
       "</ol>\n",
       "\n",
       "<details>\n",
       "\t<summary style=display:list-item;cursor:pointer>\n",
       "\t\t<strong>Levels</strong>:\n",
       "\t</summary>\n",
       "\t<ol class=list-inline>\n",
       "\t\t<li>'손오공'</li>\n",
       "\t\t<li>'홍길동'</li>\n",
       "\t\t<li>'장발장'</li>\n",
       "\t</ol>\n",
       "</details>"
      ],
      "text/latex": [
       "\\begin{enumerate*}\n",
       "\\item 홍길동\n",
       "\\item 손오공\n",
       "\\item 장발장\n",
       "\\item 장발장\n",
       "\\item 장발장\n",
       "\\end{enumerate*}\n",
       "\n",
       "\\emph{Levels}: \\begin{enumerate*}\n",
       "\\item '손오공'\n",
       "\\item '홍길동'\n",
       "\\item '장발장'\n",
       "\\end{enumerate*}\n"
      ],
      "text/markdown": [
       "1. 홍길동\n",
       "2. 손오공\n",
       "3. 장발장\n",
       "4. 장발장\n",
       "5. 장발장\n",
       "\n",
       "\n",
       "\n",
       "**Levels**: 1. '손오공'\n",
       "2. '홍길동'\n",
       "3. '장발장'\n",
       "\n",
       "\n"
      ],
      "text/plain": [
       "[1] 홍길동 손오공 장발장 장발장 장발장\n",
       "Levels: 손오공 홍길동 장발장"
      ]
     },
     "metadata": {},
     "output_type": "display_data"
    }
   ],
   "source": [
    "x[[\"성명\"]]"
   ]
  },
  {
   "cell_type": "code",
   "execution_count": 203,
   "metadata": {},
   "outputs": [
    {
     "data": {
      "text/html": [
       "<ol class=list-inline>\n",
       "\t<li>홍길동</li>\n",
       "\t<li>손오공</li>\n",
       "\t<li>장발장</li>\n",
       "\t<li>장발장</li>\n",
       "\t<li>장발장</li>\n",
       "</ol>\n",
       "\n",
       "<details>\n",
       "\t<summary style=display:list-item;cursor:pointer>\n",
       "\t\t<strong>Levels</strong>:\n",
       "\t</summary>\n",
       "\t<ol class=list-inline>\n",
       "\t\t<li>'손오공'</li>\n",
       "\t\t<li>'홍길동'</li>\n",
       "\t\t<li>'장발장'</li>\n",
       "\t</ol>\n",
       "</details>"
      ],
      "text/latex": [
       "\\begin{enumerate*}\n",
       "\\item 홍길동\n",
       "\\item 손오공\n",
       "\\item 장발장\n",
       "\\item 장발장\n",
       "\\item 장발장\n",
       "\\end{enumerate*}\n",
       "\n",
       "\\emph{Levels}: \\begin{enumerate*}\n",
       "\\item '손오공'\n",
       "\\item '홍길동'\n",
       "\\item '장발장'\n",
       "\\end{enumerate*}\n"
      ],
      "text/markdown": [
       "1. 홍길동\n",
       "2. 손오공\n",
       "3. 장발장\n",
       "4. 장발장\n",
       "5. 장발장\n",
       "\n",
       "\n",
       "\n",
       "**Levels**: 1. '손오공'\n",
       "2. '홍길동'\n",
       "3. '장발장'\n",
       "\n",
       "\n"
      ],
      "text/plain": [
       "[1] 홍길동 손오공 장발장 장발장 장발장\n",
       "Levels: 손오공 홍길동 장발장"
      ]
     },
     "metadata": {},
     "output_type": "display_data"
    }
   ],
   "source": [
    "x[[1]]"
   ]
  },
  {
   "cell_type": "code",
   "execution_count": 204,
   "metadata": {},
   "outputs": [
    {
     "data": {
      "text/html": [
       "손오공\n",
       "<details>\n",
       "\t<summary style=display:list-item;cursor:pointer>\n",
       "\t\t<strong>Levels</strong>:\n",
       "\t</summary>\n",
       "\t<ol class=list-inline>\n",
       "\t\t<li>'손오공'</li>\n",
       "\t\t<li>'홍길동'</li>\n",
       "\t\t<li>'장발장'</li>\n",
       "\t</ol>\n",
       "</details>"
      ],
      "text/latex": [
       "손오공\n",
       "\\emph{Levels}: \\begin{enumerate*}\n",
       "\\item '손오공'\n",
       "\\item '홍길동'\n",
       "\\item '장발장'\n",
       "\\end{enumerate*}\n"
      ],
      "text/markdown": [
       "손오공\n",
       "**Levels**: 1. '손오공'\n",
       "2. '홍길동'\n",
       "3. '장발장'\n",
       "\n",
       "\n"
      ],
      "text/plain": [
       "[1] 손오공\n",
       "Levels: 손오공 홍길동 장발장"
      ]
     },
     "metadata": {},
     "output_type": "display_data"
    }
   ],
   "source": [
    "x[[1]][2]"
   ]
  },
  {
   "cell_type": "code",
   "execution_count": 208,
   "metadata": {},
   "outputs": [
    {
     "data": {
      "text/html": [
       "<table>\n",
       "<thead><tr><th scope=col>성명</th><th scope=col>나이</th><th scope=col>주소</th><th scope=col>학과</th></tr></thead>\n",
       "<tbody>\n",
       "\t<tr><td>홍길동</td><td>21    </td><td>서울  </td><td>e-비즈</td></tr>\n",
       "\t<tr><td>손오공</td><td>30    </td><td>부산  </td><td>경영  </td></tr>\n",
       "\t<tr><td>장발장</td><td>40    </td><td>파리  </td><td>행정  </td></tr>\n",
       "\t<tr><td>장발장</td><td>40    </td><td>파리  </td><td>행정  </td></tr>\n",
       "\t<tr><td>장발장</td><td>40    </td><td>파리  </td><td>행정  </td></tr>\n",
       "</tbody>\n",
       "</table>\n"
      ],
      "text/latex": [
       "\\begin{tabular}{r|llll}\n",
       " 성명 & 나이 & 주소 & 학과\\\\\n",
       "\\hline\n",
       "\t 홍길동 & 21     & 서울   & e-비즈\\\\\n",
       "\t 손오공 & 30     & 부산   & 경영  \\\\\n",
       "\t 장발장 & 40     & 파리   & 행정  \\\\\n",
       "\t 장발장 & 40     & 파리   & 행정  \\\\\n",
       "\t 장발장 & 40     & 파리   & 행정  \\\\\n",
       "\\end{tabular}\n"
      ],
      "text/markdown": [
       "\n",
       "성명 | 나이 | 주소 | 학과 | \n",
       "|---|---|---|---|---|\n",
       "| 홍길동 | 21     | 서울   | e-비즈 | \n",
       "| 손오공 | 30     | 부산   | 경영   | \n",
       "| 장발장 | 40     | 파리   | 행정   | \n",
       "| 장발장 | 40     | 파리   | 행정   | \n",
       "| 장발장 | 40     | 파리   | 행정   | \n",
       "\n",
       "\n"
      ],
      "text/plain": [
       "  성명   나이 주소 학과  \n",
       "1 홍길동 21   서울 e-비즈\n",
       "2 손오공 30   부산 경영  \n",
       "3 장발장 40   파리 행정  \n",
       "4 장발장 40   파리 행정  \n",
       "5 장발장 40   파리 행정  "
      ]
     },
     "metadata": {},
     "output_type": "display_data"
    }
   ],
   "source": [
    "x[1,2] <- 21\n",
    "x"
   ]
  },
  {
   "cell_type": "code",
   "execution_count": 210,
   "metadata": {},
   "outputs": [
    {
     "data": {
      "text/html": [
       "<table>\n",
       "<thead><tr><th scope=col>성명</th><th scope=col>나이</th><th scope=col>주소</th><th scope=col>학과</th></tr></thead>\n",
       "<tbody>\n",
       "\t<tr><td>홍길동</td><td>22    </td><td>서울  </td><td>e-비즈</td></tr>\n",
       "\t<tr><td>손오공</td><td>30    </td><td>부산  </td><td>경영  </td></tr>\n",
       "\t<tr><td>장발장</td><td>40    </td><td>파리  </td><td>행정  </td></tr>\n",
       "\t<tr><td>장발장</td><td>40    </td><td>파리  </td><td>행정  </td></tr>\n",
       "\t<tr><td>장발장</td><td>40    </td><td>파리  </td><td>행정  </td></tr>\n",
       "</tbody>\n",
       "</table>\n"
      ],
      "text/latex": [
       "\\begin{tabular}{r|llll}\n",
       " 성명 & 나이 & 주소 & 학과\\\\\n",
       "\\hline\n",
       "\t 홍길동 & 22     & 서울   & e-비즈\\\\\n",
       "\t 손오공 & 30     & 부산   & 경영  \\\\\n",
       "\t 장발장 & 40     & 파리   & 행정  \\\\\n",
       "\t 장발장 & 40     & 파리   & 행정  \\\\\n",
       "\t 장발장 & 40     & 파리   & 행정  \\\\\n",
       "\\end{tabular}\n"
      ],
      "text/markdown": [
       "\n",
       "성명 | 나이 | 주소 | 학과 | \n",
       "|---|---|---|---|---|\n",
       "| 홍길동 | 22     | 서울   | e-비즈 | \n",
       "| 손오공 | 30     | 부산   | 경영   | \n",
       "| 장발장 | 40     | 파리   | 행정   | \n",
       "| 장발장 | 40     | 파리   | 행정   | \n",
       "| 장발장 | 40     | 파리   | 행정   | \n",
       "\n",
       "\n"
      ],
      "text/plain": [
       "  성명   나이 주소 학과  \n",
       "1 홍길동 22   서울 e-비즈\n",
       "2 손오공 30   부산 경영  \n",
       "3 장발장 40   파리 행정  \n",
       "4 장발장 40   파리 행정  \n",
       "5 장발장 40   파리 행정  "
      ]
     },
     "metadata": {},
     "output_type": "display_data"
    }
   ],
   "source": [
    "x[1,\"나이\"]<-22\n",
    "x"
   ]
  },
  {
   "cell_type": "markdown",
   "metadata": {},
   "source": [
    "### 3. 요인(factors)\n",
    "- R에서 factor(요인)을 범주형 변수(categorical variable)로 취급한다."
   ]
  },
  {
   "cell_type": "markdown",
   "metadata": {},
   "source": [
    "##### - 아래 gender의 값은 f이고 수준은 m,f 2개이다. [m,f는 범주형 변수]"
   ]
  },
  {
   "cell_type": "code",
   "execution_count": 218,
   "metadata": {},
   "outputs": [
    {
     "data": {
      "text/html": [
       "f\n",
       "<details>\n",
       "\t<summary style=display:list-item;cursor:pointer>\n",
       "\t\t<strong>Levels</strong>:\n",
       "\t</summary>\n",
       "\t<ol class=list-inline>\n",
       "\t\t<li>'m'</li>\n",
       "\t\t<li>'f'</li>\n",
       "\t</ol>\n",
       "</details>"
      ],
      "text/latex": [
       "f\n",
       "\\emph{Levels}: \\begin{enumerate*}\n",
       "\\item 'm'\n",
       "\\item 'f'\n",
       "\\end{enumerate*}\n"
      ],
      "text/markdown": [
       "f\n",
       "**Levels**: 1. 'm'\n",
       "2. 'f'\n",
       "\n",
       "\n"
      ],
      "text/plain": [
       "[1] f\n",
       "Levels: m f"
      ]
     },
     "metadata": {},
     "output_type": "display_data"
    }
   ],
   "source": [
    "gender<-factor(\"f\", c(\"m\",\"f\"))\n",
    "gender"
   ]
  },
  {
   "cell_type": "markdown",
   "metadata": {},
   "source": [
    "##### 범주의 값을 구한다.\n",
    "##### levels() 함수로 범주의 값을 변경할 수 있다."
   ]
  },
  {
   "cell_type": "code",
   "execution_count": 221,
   "metadata": {},
   "outputs": [
    {
     "data": {
      "text/html": [
       "'m'"
      ],
      "text/latex": [
       "'m'"
      ],
      "text/markdown": [
       "'m'"
      ],
      "text/plain": [
       "[1] \"m\""
      ]
     },
     "metadata": {},
     "output_type": "display_data"
    },
    {
     "data": {
      "text/html": [
       "'f'"
      ],
      "text/latex": [
       "'f'"
      ],
      "text/markdown": [
       "'f'"
      ],
      "text/plain": [
       "[1] \"f\""
      ]
     },
     "metadata": {},
     "output_type": "display_data"
    }
   ],
   "source": [
    "levels(gender)[1]\n",
    "levels(gender)[2]"
   ]
  },
  {
   "cell_type": "code",
   "execution_count": 222,
   "metadata": {},
   "outputs": [
    {
     "data": {
      "text/html": [
       "f\n",
       "<details>\n",
       "\t<summary style=display:list-item;cursor:pointer>\n",
       "\t\t<strong>Levels</strong>:\n",
       "\t</summary>\n",
       "\t<ol class=list-inline>\n",
       "\t\t<li>'m'</li>\n",
       "\t\t<li>'f'</li>\n",
       "\t</ol>\n",
       "</details>"
      ],
      "text/latex": [
       "f\n",
       "\\emph{Levels}: \\begin{enumerate*}\n",
       "\\item 'm'\n",
       "\\item 'f'\n",
       "\\end{enumerate*}\n"
      ],
      "text/markdown": [
       "f\n",
       "**Levels**: 1. 'm'\n",
       "2. 'f'\n",
       "\n",
       "\n"
      ],
      "text/plain": [
       "[1] f\n",
       "Levels: m f"
      ]
     },
     "metadata": {},
     "output_type": "display_data"
    }
   ],
   "source": [
    "gender"
   ]
  },
  {
   "cell_type": "code",
   "execution_count": 224,
   "metadata": {},
   "outputs": [
    {
     "data": {
      "text/html": [
       "female\n",
       "<details>\n",
       "\t<summary style=display:list-item;cursor:pointer>\n",
       "\t\t<strong>Levels</strong>:\n",
       "\t</summary>\n",
       "\t<ol class=list-inline>\n",
       "\t\t<li>'male'</li>\n",
       "\t\t<li>'female'</li>\n",
       "\t</ol>\n",
       "</details>"
      ],
      "text/latex": [
       "female\n",
       "\\emph{Levels}: \\begin{enumerate*}\n",
       "\\item 'male'\n",
       "\\item 'female'\n",
       "\\end{enumerate*}\n"
      ],
      "text/markdown": [
       "female\n",
       "**Levels**: 1. 'male'\n",
       "2. 'female'\n",
       "\n",
       "\n"
      ],
      "text/plain": [
       "[1] female\n",
       "Levels: male female"
      ]
     },
     "metadata": {},
     "output_type": "display_data"
    }
   ],
   "source": [
    "levels(gender)<-c(\"male\",\"female\")\n",
    "gender"
   ]
  },
  {
   "cell_type": "markdown",
   "metadata": {},
   "source": [
    "##### ordered() 함수를 이용하여 명목형 변수의 level에 순서를 적용할 수 있다.\n",
    "##### factor()에서는 ordered =True 라고 지정한다."
   ]
  },
  {
   "cell_type": "code",
   "execution_count": 229,
   "metadata": {},
   "outputs": [
    {
     "data": {
      "text/html": [
       "<ol class=list-inline>\n",
       "\t<li>a</li>\n",
       "\t<li>b</li>\n",
       "\t<li>c</li>\n",
       "\t<li>d</li>\n",
       "</ol>\n",
       "\n",
       "<details>\n",
       "\t<summary style=display:list-item;cursor:pointer>\n",
       "\t\t<strong>Levels</strong>:\n",
       "\t</summary>\n",
       "\t<ol class=list-inline>\n",
       "\t\t<li>'a'</li>\n",
       "\t\t<li>'b'</li>\n",
       "\t\t<li>'c'</li>\n",
       "\t\t<li>'d'</li>\n",
       "\t</ol>\n",
       "</details>"
      ],
      "text/latex": [
       "\\begin{enumerate*}\n",
       "\\item a\n",
       "\\item b\n",
       "\\item c\n",
       "\\item d\n",
       "\\end{enumerate*}\n",
       "\n",
       "\\emph{Levels}: \\begin{enumerate*}\n",
       "\\item 'a'\n",
       "\\item 'b'\n",
       "\\item 'c'\n",
       "\\item 'd'\n",
       "\\end{enumerate*}\n"
      ],
      "text/markdown": [
       "1. a\n",
       "2. b\n",
       "3. c\n",
       "4. d\n",
       "\n",
       "\n",
       "\n",
       "**Levels**: 1. 'a'\n",
       "2. 'b'\n",
       "3. 'c'\n",
       "4. 'd'\n",
       "\n",
       "\n"
      ],
      "text/plain": [
       "[1] a b c d\n",
       "Levels: a < b < c < d"
      ]
     },
     "metadata": {},
     "output_type": "display_data"
    },
    {
     "data": {
      "text/html": [
       "<ol class=list-inline>\n",
       "\t<li>a</li>\n",
       "\t<li>b</li>\n",
       "\t<li>c</li>\n",
       "\t<li>d</li>\n",
       "</ol>\n",
       "\n",
       "<details>\n",
       "\t<summary style=display:list-item;cursor:pointer>\n",
       "\t\t<strong>Levels</strong>:\n",
       "\t</summary>\n",
       "\t<ol class=list-inline>\n",
       "\t\t<li>'a'</li>\n",
       "\t\t<li>'b'</li>\n",
       "\t\t<li>'c'</li>\n",
       "\t\t<li>'d'</li>\n",
       "\t</ol>\n",
       "</details>"
      ],
      "text/latex": [
       "\\begin{enumerate*}\n",
       "\\item a\n",
       "\\item b\n",
       "\\item c\n",
       "\\item d\n",
       "\\end{enumerate*}\n",
       "\n",
       "\\emph{Levels}: \\begin{enumerate*}\n",
       "\\item 'a'\n",
       "\\item 'b'\n",
       "\\item 'c'\n",
       "\\item 'd'\n",
       "\\end{enumerate*}\n"
      ],
      "text/markdown": [
       "1. a\n",
       "2. b\n",
       "3. c\n",
       "4. d\n",
       "\n",
       "\n",
       "\n",
       "**Levels**: 1. 'a'\n",
       "2. 'b'\n",
       "3. 'c'\n",
       "4. 'd'\n",
       "\n",
       "\n"
      ],
      "text/plain": [
       "[1] a b c d\n",
       "Levels: a < b < c < d"
      ]
     },
     "metadata": {},
     "output_type": "display_data"
    }
   ],
   "source": [
    "ordered(c(\"a\",\"b\",\"c\",\"d\"))\n",
    "factor(c('a','b','c','d'), ordered=TRUE) # 위와 같은 순서가 있는 factor"
   ]
  },
  {
   "cell_type": "markdown",
   "metadata": {},
   "source": [
    "## 데이터 분류\n",
    "- 수치형 : 숫자로 표현한다, 통계에서는 좀더 중요하다.\n",
    "- 범주형 : 문자로 표한한다.\n",
    "\n",
    "1) 수치형 - 이산형\n",
    "- 셀 수 있으며 정수를 나타낸다.\n",
    "- 값들이 서로 이어져 있지 않다.\n",
    "- 예) 1명 2명 3명 등 서로 독립적이고 이어져 있지 않다.\n",
    "\n",
    "2) 수치형 - 연속형\n",
    "- 데이터가 연속적인 수치값이다. 주로 실수값이다.\n",
    "- ex) 175.2cm, 180.12cm등 키를 나타내는 데이터는 연속형 데이터이다.\n",
    "- 175~176 사이에는 많은수가 존재한다. 떼어낼 수 없는 독립적이지 않은 값이므로 연속형이라 한다.\n",
    "\n",
    "3) 범주형 - 명목형\n",
    "- 문자형태이다. 카테고리적 특징을 가진다.\n",
    "- 카테고리를 정해 분류한다가 생각할 수 있다.\n",
    "- 성별 카테고리, 종교 카테고리, 혈액형 카테고리 등 이안에 값이 담겨져 있다.\n",
    "- 카테고리 level이라 부르며, level이 '남','여' 로 정해졌다면 데이터에 ['남','남','여'] '소녀'가 들어가면 안된다.\n",
    "- level은 데이터 생성시 명시할 수 있다.\n",
    "- ex) 성별(남,여) 종교(기독교,불교), 혈액형(A,B,AB,O)\n",
    "- 때로는 남,여를 1,2의 숫자로 대신 사용해 통계분석을 하는 경우가 있다.\n",
    "\n",
    "4) 범주형-순서형\n",
    "- 명목형과 비슷하다. 단지 순서가 있다.\n",
    "- ex) A+, A-, B+, B-, C+, C-, D+, D-, F"
   ]
  },
  {
   "cell_type": "markdown",
   "metadata": {},
   "source": [
    "# PPT 자료문제"
   ]
  },
  {
   "cell_type": "markdown",
   "metadata": {},
   "source": [
    "## LIST"
   ]
  },
  {
   "cell_type": "code",
   "execution_count": 237,
   "metadata": {},
   "outputs": [
    {
     "data": {
      "text/html": [
       "<ol>\n",
       "\t<li><ol class=list-inline>\n",
       "\t<li>1</li>\n",
       "\t<li>2</li>\n",
       "\t<li>3</li>\n",
       "\t<li>4</li>\n",
       "\t<li>5</li>\n",
       "</ol>\n",
       "</li>\n",
       "\t<li><ol class=list-inline>\n",
       "\t<li>TRUE</li>\n",
       "\t<li>FALSE</li>\n",
       "\t<li>TRUE</li>\n",
       "</ol>\n",
       "</li>\n",
       "\t<li>'good day'</li>\n",
       "\t<li><table>\n",
       "<tbody>\n",
       "\t<tr><td>1</td><td>4</td></tr>\n",
       "\t<tr><td>2</td><td>5</td></tr>\n",
       "\t<tr><td>3</td><td>6</td></tr>\n",
       "</tbody>\n",
       "</table>\n",
       "</li>\n",
       "</ol>\n"
      ],
      "text/latex": [
       "\\begin{enumerate}\n",
       "\\item \\begin{enumerate*}\n",
       "\\item 1\n",
       "\\item 2\n",
       "\\item 3\n",
       "\\item 4\n",
       "\\item 5\n",
       "\\end{enumerate*}\n",
       "\n",
       "\\item \\begin{enumerate*}\n",
       "\\item TRUE\n",
       "\\item FALSE\n",
       "\\item TRUE\n",
       "\\end{enumerate*}\n",
       "\n",
       "\\item 'good day'\n",
       "\\item \\begin{tabular}{ll}\n",
       "\t 1 & 4\\\\\n",
       "\t 2 & 5\\\\\n",
       "\t 3 & 6\\\\\n",
       "\\end{tabular}\n",
       "\n",
       "\\end{enumerate}\n"
      ],
      "text/markdown": [
       "1. 1. 1\n",
       "2. 2\n",
       "3. 3\n",
       "4. 4\n",
       "5. 5\n",
       "\n",
       "\n",
       "\n",
       "2. 1. TRUE\n",
       "2. FALSE\n",
       "3. TRUE\n",
       "\n",
       "\n",
       "\n",
       "3. 'good day'\n",
       "4. \n",
       "| 1 | 4 | \n",
       "| 2 | 5 | \n",
       "| 3 | 6 | \n",
       "\n",
       "\n",
       "\n",
       "\n",
       "\n"
      ],
      "text/plain": [
       "[[1]]\n",
       "[1] 1 2 3 4 5\n",
       "\n",
       "[[2]]\n",
       "[1]  TRUE FALSE  TRUE\n",
       "\n",
       "[[3]]\n",
       "[1] \"good day\"\n",
       "\n",
       "[[4]]\n",
       "     [,1] [,2]\n",
       "[1,]    1    4\n",
       "[2,]    2    5\n",
       "[3,]    3    6\n"
      ]
     },
     "metadata": {},
     "output_type": "display_data"
    }
   ],
   "source": [
    "# list()로 생성\n",
    "x=list(1:5,c(T,F,T), \"good day\", matrix(1:6, ncol=2))\n",
    "x"
   ]
  },
  {
   "cell_type": "code",
   "execution_count": 260,
   "metadata": {},
   "outputs": [
    {
     "data": {
      "text/html": [
       "<ol class=list-inline>\n",
       "\t<li>1</li>\n",
       "\t<li>2</li>\n",
       "\t<li>3</li>\n",
       "\t<li>4</li>\n",
       "\t<li>5</li>\n",
       "</ol>\n"
      ],
      "text/latex": [
       "\\begin{enumerate*}\n",
       "\\item 1\n",
       "\\item 2\n",
       "\\item 3\n",
       "\\item 4\n",
       "\\item 5\n",
       "\\end{enumerate*}\n"
      ],
      "text/markdown": [
       "1. 1\n",
       "2. 2\n",
       "3. 3\n",
       "4. 4\n",
       "5. 5\n",
       "\n",
       "\n"
      ],
      "text/plain": [
       "[1] 1 2 3 4 5"
      ]
     },
     "metadata": {},
     "output_type": "display_data"
    },
    {
     "data": {
      "text/html": [
       "2"
      ],
      "text/latex": [
       "2"
      ],
      "text/markdown": [
       "2"
      ],
      "text/plain": [
       "[1] 2"
      ]
     },
     "metadata": {},
     "output_type": "display_data"
    },
    {
     "data": {
      "text/html": [
       "<ol>\n",
       "\t<li><ol class=list-inline>\n",
       "\t<li>1</li>\n",
       "\t<li>2</li>\n",
       "\t<li>3</li>\n",
       "\t<li>4</li>\n",
       "\t<li>5</li>\n",
       "</ol>\n",
       "</li>\n",
       "</ol>\n"
      ],
      "text/latex": [
       "\\begin{enumerate}\n",
       "\\item \\begin{enumerate*}\n",
       "\\item 1\n",
       "\\item 2\n",
       "\\item 3\n",
       "\\item 4\n",
       "\\item 5\n",
       "\\end{enumerate*}\n",
       "\n",
       "\\end{enumerate}\n"
      ],
      "text/markdown": [
       "1. 1. 1\n",
       "2. 2\n",
       "3. 3\n",
       "4. 4\n",
       "5. 5\n",
       "\n",
       "\n",
       "\n",
       "\n",
       "\n"
      ],
      "text/plain": [
       "[[1]]\n",
       "[1] 1 2 3 4 5\n"
      ]
     },
     "metadata": {},
     "output_type": "display_data"
    },
    {
     "data": {
      "text/html": [
       "<ol>\n",
       "\t<li><ol class=list-inline>\n",
       "\t<li>1</li>\n",
       "\t<li>2</li>\n",
       "\t<li>3</li>\n",
       "\t<li>4</li>\n",
       "\t<li>5</li>\n",
       "</ol>\n",
       "</li>\n",
       "\t<li><ol class=list-inline>\n",
       "\t<li>TRUE</li>\n",
       "\t<li>FALSE</li>\n",
       "\t<li>TRUE</li>\n",
       "</ol>\n",
       "</li>\n",
       "</ol>\n"
      ],
      "text/latex": [
       "\\begin{enumerate}\n",
       "\\item \\begin{enumerate*}\n",
       "\\item 1\n",
       "\\item 2\n",
       "\\item 3\n",
       "\\item 4\n",
       "\\item 5\n",
       "\\end{enumerate*}\n",
       "\n",
       "\\item \\begin{enumerate*}\n",
       "\\item TRUE\n",
       "\\item FALSE\n",
       "\\item TRUE\n",
       "\\end{enumerate*}\n",
       "\n",
       "\\end{enumerate}\n"
      ],
      "text/markdown": [
       "1. 1. 1\n",
       "2. 2\n",
       "3. 3\n",
       "4. 4\n",
       "5. 5\n",
       "\n",
       "\n",
       "\n",
       "2. 1. TRUE\n",
       "2. FALSE\n",
       "3. TRUE\n",
       "\n",
       "\n",
       "\n",
       "\n",
       "\n"
      ],
      "text/plain": [
       "[[1]]\n",
       "[1] 1 2 3 4 5\n",
       "\n",
       "[[2]]\n",
       "[1]  TRUE FALSE  TRUE\n"
      ]
     },
     "metadata": {},
     "output_type": "display_data"
    },
    {
     "data": {
      "text/html": [
       "<ol class=list-inline>\n",
       "\t<li>TRUE</li>\n",
       "\t<li>FALSE</li>\n",
       "\t<li>TRUE</li>\n",
       "</ol>\n"
      ],
      "text/latex": [
       "\\begin{enumerate*}\n",
       "\\item TRUE\n",
       "\\item FALSE\n",
       "\\item TRUE\n",
       "\\end{enumerate*}\n"
      ],
      "text/markdown": [
       "1. TRUE\n",
       "2. FALSE\n",
       "3. TRUE\n",
       "\n",
       "\n"
      ],
      "text/plain": [
       "[1]  TRUE FALSE  TRUE"
      ]
     },
     "metadata": {},
     "output_type": "display_data"
    },
    {
     "data": {
      "text/html": [
       "<ol>\n",
       "\t<li><ol class=list-inline>\n",
       "\t<li>1</li>\n",
       "\t<li>2</li>\n",
       "\t<li>3</li>\n",
       "\t<li>4</li>\n",
       "\t<li>5</li>\n",
       "</ol>\n",
       "</li>\n",
       "\t<li>'good day'</li>\n",
       "\t<li><table>\n",
       "<tbody>\n",
       "\t<tr><td>1</td><td>4</td></tr>\n",
       "\t<tr><td>2</td><td>5</td></tr>\n",
       "\t<tr><td>3</td><td>6</td></tr>\n",
       "</tbody>\n",
       "</table>\n",
       "</li>\n",
       "</ol>\n"
      ],
      "text/latex": [
       "\\begin{enumerate}\n",
       "\\item \\begin{enumerate*}\n",
       "\\item 1\n",
       "\\item 2\n",
       "\\item 3\n",
       "\\item 4\n",
       "\\item 5\n",
       "\\end{enumerate*}\n",
       "\n",
       "\\item 'good day'\n",
       "\\item \\begin{tabular}{ll}\n",
       "\t 1 & 4\\\\\n",
       "\t 2 & 5\\\\\n",
       "\t 3 & 6\\\\\n",
       "\\end{tabular}\n",
       "\n",
       "\\end{enumerate}\n"
      ],
      "text/markdown": [
       "1. 1. 1\n",
       "2. 2\n",
       "3. 3\n",
       "4. 4\n",
       "5. 5\n",
       "\n",
       "\n",
       "\n",
       "2. 'good day'\n",
       "3. \n",
       "| 1 | 4 | \n",
       "| 2 | 5 | \n",
       "| 3 | 6 | \n",
       "\n",
       "\n",
       "\n",
       "\n",
       "\n"
      ],
      "text/plain": [
       "[[1]]\n",
       "[1] 1 2 3 4 5\n",
       "\n",
       "[[2]]\n",
       "[1] \"good day\"\n",
       "\n",
       "[[3]]\n",
       "     [,1] [,2]\n",
       "[1,]    1    4\n",
       "[2,]    2    5\n",
       "[3,]    3    6\n"
      ]
     },
     "metadata": {},
     "output_type": "display_data"
    },
    {
     "data": {
      "text/html": [
       "<ol>\n",
       "\t<li><ol class=list-inline>\n",
       "\t<li>5</li>\n",
       "\t<li>6</li>\n",
       "\t<li>7</li>\n",
       "\t<li>8</li>\n",
       "\t<li>9</li>\n",
       "</ol>\n",
       "</li>\n",
       "\t<li><ol class=list-inline>\n",
       "\t<li>TRUE</li>\n",
       "\t<li>FALSE</li>\n",
       "\t<li>TRUE</li>\n",
       "</ol>\n",
       "</li>\n",
       "\t<li>'good day'</li>\n",
       "\t<li><table>\n",
       "<tbody>\n",
       "\t<tr><td>1</td><td>4</td></tr>\n",
       "\t<tr><td>2</td><td>5</td></tr>\n",
       "\t<tr><td>3</td><td>6</td></tr>\n",
       "</tbody>\n",
       "</table>\n",
       "</li>\n",
       "</ol>\n"
      ],
      "text/latex": [
       "\\begin{enumerate}\n",
       "\\item \\begin{enumerate*}\n",
       "\\item 5\n",
       "\\item 6\n",
       "\\item 7\n",
       "\\item 8\n",
       "\\item 9\n",
       "\\end{enumerate*}\n",
       "\n",
       "\\item \\begin{enumerate*}\n",
       "\\item TRUE\n",
       "\\item FALSE\n",
       "\\item TRUE\n",
       "\\end{enumerate*}\n",
       "\n",
       "\\item 'good day'\n",
       "\\item \\begin{tabular}{ll}\n",
       "\t 1 & 4\\\\\n",
       "\t 2 & 5\\\\\n",
       "\t 3 & 6\\\\\n",
       "\\end{tabular}\n",
       "\n",
       "\\end{enumerate}\n"
      ],
      "text/markdown": [
       "1. 1. 5\n",
       "2. 6\n",
       "3. 7\n",
       "4. 8\n",
       "5. 9\n",
       "\n",
       "\n",
       "\n",
       "2. 1. TRUE\n",
       "2. FALSE\n",
       "3. TRUE\n",
       "\n",
       "\n",
       "\n",
       "3. 'good day'\n",
       "4. \n",
       "| 1 | 4 | \n",
       "| 2 | 5 | \n",
       "| 3 | 6 | \n",
       "\n",
       "\n",
       "\n",
       "\n",
       "\n"
      ],
      "text/plain": [
       "[[1]]\n",
       "[1] 5 6 7 8 9\n",
       "\n",
       "[[2]]\n",
       "[1]  TRUE FALSE  TRUE\n",
       "\n",
       "[[3]]\n",
       "[1] \"good day\"\n",
       "\n",
       "[[4]]\n",
       "     [,1] [,2]\n",
       "[1,]    1    4\n",
       "[2,]    2    5\n",
       "[3,]    3    6\n"
      ]
     },
     "metadata": {},
     "output_type": "display_data"
    },
    {
     "data": {
      "text/html": [
       "<ol>\n",
       "\t<li><ol class=list-inline>\n",
       "\t<li>5</li>\n",
       "\t<li>6</li>\n",
       "\t<li>7</li>\n",
       "\t<li>8</li>\n",
       "\t<li>9</li>\n",
       "</ol>\n",
       "</li>\n",
       "\t<li><ol class=list-inline>\n",
       "\t<li>TRUE</li>\n",
       "\t<li>FALSE</li>\n",
       "\t<li>TRUE</li>\n",
       "</ol>\n",
       "</li>\n",
       "\t<li>'good day'</li>\n",
       "\t<li>'happy'</li>\n",
       "\t<li><ol class=list-inline>\n",
       "\t<li>10</li>\n",
       "\t<li>20</li>\n",
       "\t<li>30</li>\n",
       "</ol>\n",
       "</li>\n",
       "</ol>\n"
      ],
      "text/latex": [
       "\\begin{enumerate}\n",
       "\\item \\begin{enumerate*}\n",
       "\\item 5\n",
       "\\item 6\n",
       "\\item 7\n",
       "\\item 8\n",
       "\\item 9\n",
       "\\end{enumerate*}\n",
       "\n",
       "\\item \\begin{enumerate*}\n",
       "\\item TRUE\n",
       "\\item FALSE\n",
       "\\item TRUE\n",
       "\\end{enumerate*}\n",
       "\n",
       "\\item 'good day'\n",
       "\\item 'happy'\n",
       "\\item \\begin{enumerate*}\n",
       "\\item 10\n",
       "\\item 20\n",
       "\\item 30\n",
       "\\end{enumerate*}\n",
       "\n",
       "\\end{enumerate}\n"
      ],
      "text/markdown": [
       "1. 1. 5\n",
       "2. 6\n",
       "3. 7\n",
       "4. 8\n",
       "5. 9\n",
       "\n",
       "\n",
       "\n",
       "2. 1. TRUE\n",
       "2. FALSE\n",
       "3. TRUE\n",
       "\n",
       "\n",
       "\n",
       "3. 'good day'\n",
       "4. 'happy'\n",
       "5. 1. 10\n",
       "2. 20\n",
       "3. 30\n",
       "\n",
       "\n",
       "\n",
       "\n",
       "\n"
      ],
      "text/plain": [
       "[[1]]\n",
       "[1] 5 6 7 8 9\n",
       "\n",
       "[[2]]\n",
       "[1]  TRUE FALSE  TRUE\n",
       "\n",
       "[[3]]\n",
       "[1] \"good day\"\n",
       "\n",
       "[[4]]\n",
       "[1] \"happy\"\n",
       "\n",
       "[[5]]\n",
       "[1] 10 20 30\n"
      ]
     },
     "metadata": {},
     "output_type": "display_data"
    }
   ],
   "source": [
    "# list 요소 접근\n",
    "x=list(1:5,c(T,F,T), \"good day\", matrix(1:6, ncol=2))\n",
    "x[[1]] # 1성분요소 추출\n",
    "x[[1]][2] # 1성분의 2요소 추출\n",
    "x[1] # 리스트의 성분 서브리스트 추출\n",
    "x[1:2] # 1,2 성분추출\n",
    "x[[2]]\n",
    "x[c(T,F,T)] #1,3 성분추출\n",
    "x[1] = list(5:9) # 1성분 변경, list로 치환하여 변경\n",
    "x\n",
    "x[4:5] = list(\"happy\", c(10,20,30)) # 4,5 성분에 리스트 추가\n",
    "x"
   ]
  },
  {
   "cell_type": "code",
   "execution_count": 316,
   "metadata": {},
   "outputs": [],
   "source": [
    "x = list(c(1,2,3,4,5), c(T,F,T), \"good day\", matrix(1:6, ncol=2))\n",
    "y = list(name=\"hong\", height=179, wight=77,score=c(100,30,80))\n",
    "newlist = c(x,y)\n",
    "m = unlist(newlist)"
   ]
  },
  {
   "cell_type": "markdown",
   "metadata": {},
   "source": [
    "### DATAFRAME"
   ]
  },
  {
   "cell_type": "code",
   "execution_count": 315,
   "metadata": {},
   "outputs": [
    {
     "data": {
      "text/html": [
       "<table>\n",
       "<thead><tr><th scope=col>name</th><th scope=col>height</th><th scope=col>weight</th><th scope=col>sex</th></tr></thead>\n",
       "<tbody>\n",
       "\t<tr><td>hong  </td><td>178   </td><td>78.4  </td><td>male  </td></tr>\n",
       "\t<tr><td>kim   </td><td>166   </td><td>70.3  </td><td>male  </td></tr>\n",
       "\t<tr><td>min   </td><td>174   </td><td>83.2  </td><td>female</td></tr>\n",
       "</tbody>\n",
       "</table>\n"
      ],
      "text/latex": [
       "\\begin{tabular}{r|llll}\n",
       " name & height & weight & sex\\\\\n",
       "\\hline\n",
       "\t hong   & 178    & 78.4   & male  \\\\\n",
       "\t kim    & 166    & 70.3   & male  \\\\\n",
       "\t min    & 174    & 83.2   & female\\\\\n",
       "\\end{tabular}\n"
      ],
      "text/markdown": [
       "\n",
       "name | height | weight | sex | \n",
       "|---|---|---|\n",
       "| hong   | 178    | 78.4   | male   | \n",
       "| kim    | 166    | 70.3   | male   | \n",
       "| min    | 174    | 83.2   | female | \n",
       "\n",
       "\n"
      ],
      "text/plain": [
       "  name height weight sex   \n",
       "1 hong 178    78.4   male  \n",
       "2 kim  166    70.3   male  \n",
       "3 min  174    83.2   female"
      ]
     },
     "metadata": {},
     "output_type": "display_data"
    }
   ],
   "source": [
    "# 데이터프레임 생성\n",
    "d1 = data.frame(\n",
    "    name=c(\"hong\",\"kim\",\"min\"),\n",
    "    height=c(178,166,174),\n",
    "    weight=c(78.4,70.3,83.2),\n",
    "    sex=c(\"male\",\"male\",\"female\")\n",
    ")\n",
    "d1"
   ]
  },
  {
   "cell_type": "code",
   "execution_count": 320,
   "metadata": {},
   "outputs": [
    {
     "data": {
      "text/html": [
       "<table>\n",
       "<thead><tr><th scope=col>name</th><th scope=col>height</th><th scope=col>age</th></tr></thead>\n",
       "<tbody>\n",
       "\t<tr><td>hong </td><td>172.6</td><td>20   </td></tr>\n",
       "\t<tr><td>min  </td><td>155.7</td><td>50   </td></tr>\n",
       "\t<tr><td>kim  </td><td>180.9</td><td>19   </td></tr>\n",
       "</tbody>\n",
       "</table>\n"
      ],
      "text/latex": [
       "\\begin{tabular}{r|lll}\n",
       " name & height & age\\\\\n",
       "\\hline\n",
       "\t hong  & 172.6 & 20   \\\\\n",
       "\t min   & 155.7 & 50   \\\\\n",
       "\t kim   & 180.9 & 19   \\\\\n",
       "\\end{tabular}\n"
      ],
      "text/markdown": [
       "\n",
       "name | height | age | \n",
       "|---|---|---|\n",
       "| hong  | 172.6 | 20    | \n",
       "| min   | 155.7 | 50    | \n",
       "| kim   | 180.9 | 19    | \n",
       "\n",
       "\n"
      ],
      "text/plain": [
       "  name height age\n",
       "1 hong 172.6  20 \n",
       "2 min  155.7  50 \n",
       "3 kim  180.9  19 "
      ]
     },
     "metadata": {},
     "output_type": "display_data"
    }
   ],
   "source": [
    "# vector를 이용한 데이터프레임 생성\n",
    "n=c(\"hong\",\"min\",\"kim\") # 성명\n",
    "h=c(172.6,155.7,180.9) # 키\n",
    "a=c(20,50,19) # 나이\n",
    "(d1 = data.frame(name=n,height=h,age=a))"
   ]
  },
  {
   "cell_type": "code",
   "execution_count": 329,
   "metadata": {},
   "outputs": [
    {
     "data": {
      "text/html": [
       "<table>\n",
       "<thead><tr><th scope=col>X1</th><th scope=col>X2</th><th scope=col>X3</th></tr></thead>\n",
       "<tbody>\n",
       "\t<tr><td>1  </td><td>173</td><td>20 </td></tr>\n",
       "\t<tr><td>2  </td><td>156</td><td>50 </td></tr>\n",
       "\t<tr><td>3  </td><td>181</td><td>19 </td></tr>\n",
       "</tbody>\n",
       "</table>\n"
      ],
      "text/latex": [
       "\\begin{tabular}{r|lll}\n",
       " X1 & X2 & X3\\\\\n",
       "\\hline\n",
       "\t 1   & 173 & 20 \\\\\n",
       "\t 2   & 156 & 50 \\\\\n",
       "\t 3   & 181 & 19 \\\\\n",
       "\\end{tabular}\n"
      ],
      "text/markdown": [
       "\n",
       "X1 | X2 | X3 | \n",
       "|---|---|---|\n",
       "| 1   | 173 | 20  | \n",
       "| 2   | 156 | 50  | \n",
       "| 3   | 181 | 19  | \n",
       "\n",
       "\n"
      ],
      "text/plain": [
       "  X1 X2  X3\n",
       "1 1  173 20\n",
       "2 2  156 50\n",
       "3 3  181 19"
      ]
     },
     "metadata": {},
     "output_type": "display_data"
    }
   ],
   "source": [
    "# matrix를 이용한 데이터프레임 생성\n",
    "# 같은 데이터형으로 구성된 번호, 키, 나이 행렬\n",
    "dv = c(1,173,20,2,156,50,3,181,19)\n",
    "# 행렬로 데이터 프레임 생성\n",
    "m=matrix(dv, nrow=3, byrow=T)\n",
    "d2=data.frame(m)\n",
    "\n",
    " # 열이름지정\n",
    "cn = c(\"id\",\"height\",\"age\")\n",
    "names(m)=cn\n",
    "d2"
   ]
  }
 ],
 "metadata": {
  "kernelspec": {
   "display_name": "R",
   "language": "R",
   "name": "ir"
  },
  "language_info": {
   "codemirror_mode": "r",
   "file_extension": ".r",
   "mimetype": "text/x-r-source",
   "name": "R",
   "pygments_lexer": "r",
   "version": "3.5.1"
  }
 },
 "nbformat": 4,
 "nbformat_minor": 2
}
