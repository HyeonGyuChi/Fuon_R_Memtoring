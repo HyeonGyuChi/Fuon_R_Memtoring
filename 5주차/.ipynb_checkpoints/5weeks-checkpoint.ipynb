{
 "cells": [
  {
   "cell_type": "markdown",
   "metadata": {},
   "source": [
    "# Fuon_Mentoring 5주차\n",
    "## R Visualization - Barplot\n",
    "### 빅데이터 20155342 지현규"
   ]
  },
  {
   "cell_type": "code",
   "execution_count": 44,
   "metadata": {},
   "outputs": [
    {
     "data": {
      "text/html": [
       "'C:/Users/HyeonGyu/Documents/GITHUB/Fuon_memtoring/4주차'"
      ],
      "text/latex": [
       "'C:/Users/HyeonGyu/Documents/GITHUB/Fuon\\_memtoring/4주차'"
      ],
      "text/markdown": [
       "'C:/Users/HyeonGyu/Documents/GITHUB/Fuon_memtoring/4주차'"
      ],
      "text/plain": [
       "[1] \"C:/Users/HyeonGyu/Documents/GITHUB/Fuon_memtoring/4주차\""
      ]
     },
     "metadata": {},
     "output_type": "display_data"
    },
    {
     "data": {
      "text/html": [
       "<table>\n",
       "<thead><tr><th scope=col>Hair</th><th scope=col>Eyes</th><th scope=col>Height</th><th scope=col>Sex</th></tr></thead>\n",
       "<tbody>\n",
       "\t<tr><td>brown </td><td>blue  </td><td>178   </td><td>M     </td></tr>\n",
       "\t<tr><td>brown </td><td>blue  </td><td>176   </td><td>F     </td></tr>\n",
       "\t<tr><td>brown </td><td>blue  </td><td>174   </td><td>F     </td></tr>\n",
       "\t<tr><td>brown </td><td>brown </td><td>180   </td><td>M     </td></tr>\n",
       "\t<tr><td>brown </td><td>brown </td><td>173   </td><td>F     </td></tr>\n",
       "\t<tr><td>yellow</td><td>blue  </td><td>158   </td><td>F     </td></tr>\n",
       "\t<tr><td>yellow</td><td>blue  </td><td>166   </td><td>F     </td></tr>\n",
       "\t<tr><td>yellow</td><td>blue  </td><td>153   </td><td>F     </td></tr>\n",
       "\t<tr><td>yellow</td><td>brown </td><td>162   </td><td>M     </td></tr>\n",
       "\t<tr><td>yellow</td><td>green </td><td>180   </td><td>M     </td></tr>\n",
       "\t<tr><td>yellow</td><td>green </td><td>179   </td><td>M     </td></tr>\n",
       "\t<tr><td>yellow</td><td>green </td><td>170   </td><td>F     </td></tr>\n",
       "\t<tr><td>yellow</td><td>green </td><td>165   </td><td>F     </td></tr>\n",
       "\t<tr><td>yellow</td><td>green </td><td>174   </td><td>M     </td></tr>\n",
       "\t<tr><td>yellow</td><td>green </td><td>165   </td><td>F     </td></tr>\n",
       "\t<tr><td>brown </td><td>green </td><td>156   </td><td>F     </td></tr>\n",
       "\t<tr><td>brown </td><td>blue  </td><td>169   </td><td>F     </td></tr>\n",
       "\t<tr><td>brown </td><td>blue  </td><td>169   </td><td>F     </td></tr>\n",
       "\t<tr><td>brown </td><td>brown </td><td>160   </td><td>F     </td></tr>\n",
       "\t<tr><td>yellow</td><td>brown </td><td>150   </td><td>F     </td></tr>\n",
       "\t<tr><td>yellow</td><td>green </td><td>184   </td><td>M     </td></tr>\n",
       "\t<tr><td>brown </td><td>green </td><td>181   </td><td>M     </td></tr>\n",
       "\t<tr><td>brown </td><td>brown </td><td>172   </td><td>F     </td></tr>\n",
       "\t<tr><td>brown </td><td>blue  </td><td>148   </td><td>F     </td></tr>\n",
       "\t<tr><td>brown </td><td>green </td><td>175   </td><td>M     </td></tr>\n",
       "\t<tr><td>brown </td><td>blue  </td><td>160   </td><td>F     </td></tr>\n",
       "\t<tr><td>brown </td><td>brown </td><td>184   </td><td>M     </td></tr>\n",
       "\t<tr><td>yellow</td><td>brown </td><td>175   </td><td>M     </td></tr>\n",
       "\t<tr><td>yellow</td><td>green </td><td>173   </td><td>M     </td></tr>\n",
       "</tbody>\n",
       "</table>\n"
      ],
      "text/latex": [
       "\\begin{tabular}{r|llll}\n",
       " Hair & Eyes & Height & Sex\\\\\n",
       "\\hline\n",
       "\t brown  & blue   & 178    & M     \\\\\n",
       "\t brown  & blue   & 176    & F     \\\\\n",
       "\t brown  & blue   & 174    & F     \\\\\n",
       "\t brown  & brown  & 180    & M     \\\\\n",
       "\t brown  & brown  & 173    & F     \\\\\n",
       "\t yellow & blue   & 158    & F     \\\\\n",
       "\t yellow & blue   & 166    & F     \\\\\n",
       "\t yellow & blue   & 153    & F     \\\\\n",
       "\t yellow & brown  & 162    & M     \\\\\n",
       "\t yellow & green  & 180    & M     \\\\\n",
       "\t yellow & green  & 179    & M     \\\\\n",
       "\t yellow & green  & 170    & F     \\\\\n",
       "\t yellow & green  & 165    & F     \\\\\n",
       "\t yellow & green  & 174    & M     \\\\\n",
       "\t yellow & green  & 165    & F     \\\\\n",
       "\t brown  & green  & 156    & F     \\\\\n",
       "\t brown  & blue   & 169    & F     \\\\\n",
       "\t brown  & blue   & 169    & F     \\\\\n",
       "\t brown  & brown  & 160    & F     \\\\\n",
       "\t yellow & brown  & 150    & F     \\\\\n",
       "\t yellow & green  & 184    & M     \\\\\n",
       "\t brown  & green  & 181    & M     \\\\\n",
       "\t brown  & brown  & 172    & F     \\\\\n",
       "\t brown  & blue   & 148    & F     \\\\\n",
       "\t brown  & green  & 175    & M     \\\\\n",
       "\t brown  & blue   & 160    & F     \\\\\n",
       "\t brown  & brown  & 184    & M     \\\\\n",
       "\t yellow & brown  & 175    & M     \\\\\n",
       "\t yellow & green  & 173    & M     \\\\\n",
       "\\end{tabular}\n"
      ],
      "text/markdown": [
       "\n",
       "Hair | Eyes | Height | Sex | \n",
       "|---|---|---|---|---|---|---|---|---|---|---|---|---|---|---|---|---|---|---|---|---|---|---|---|---|---|---|---|---|\n",
       "| brown  | blue   | 178    | M      | \n",
       "| brown  | blue   | 176    | F      | \n",
       "| brown  | blue   | 174    | F      | \n",
       "| brown  | brown  | 180    | M      | \n",
       "| brown  | brown  | 173    | F      | \n",
       "| yellow | blue   | 158    | F      | \n",
       "| yellow | blue   | 166    | F      | \n",
       "| yellow | blue   | 153    | F      | \n",
       "| yellow | brown  | 162    | M      | \n",
       "| yellow | green  | 180    | M      | \n",
       "| yellow | green  | 179    | M      | \n",
       "| yellow | green  | 170    | F      | \n",
       "| yellow | green  | 165    | F      | \n",
       "| yellow | green  | 174    | M      | \n",
       "| yellow | green  | 165    | F      | \n",
       "| brown  | green  | 156    | F      | \n",
       "| brown  | blue   | 169    | F      | \n",
       "| brown  | blue   | 169    | F      | \n",
       "| brown  | brown  | 160    | F      | \n",
       "| yellow | brown  | 150    | F      | \n",
       "| yellow | green  | 184    | M      | \n",
       "| brown  | green  | 181    | M      | \n",
       "| brown  | brown  | 172    | F      | \n",
       "| brown  | blue   | 148    | F      | \n",
       "| brown  | green  | 175    | M      | \n",
       "| brown  | blue   | 160    | F      | \n",
       "| brown  | brown  | 184    | M      | \n",
       "| yellow | brown  | 175    | M      | \n",
       "| yellow | green  | 173    | M      | \n",
       "\n",
       "\n"
      ],
      "text/plain": [
       "   Hair   Eyes  Height Sex\n",
       "1  brown  blue  178    M  \n",
       "2  brown  blue  176    F  \n",
       "3  brown  blue  174    F  \n",
       "4  brown  brown 180    M  \n",
       "5  brown  brown 173    F  \n",
       "6  yellow blue  158    F  \n",
       "7  yellow blue  166    F  \n",
       "8  yellow blue  153    F  \n",
       "9  yellow brown 162    M  \n",
       "10 yellow green 180    M  \n",
       "11 yellow green 179    M  \n",
       "12 yellow green 170    F  \n",
       "13 yellow green 165    F  \n",
       "14 yellow green 174    M  \n",
       "15 yellow green 165    F  \n",
       "16 brown  green 156    F  \n",
       "17 brown  blue  169    F  \n",
       "18 brown  blue  169    F  \n",
       "19 brown  brown 160    F  \n",
       "20 yellow brown 150    F  \n",
       "21 yellow green 184    M  \n",
       "22 brown  green 181    M  \n",
       "23 brown  brown 172    F  \n",
       "24 brown  blue  148    F  \n",
       "25 brown  green 175    M  \n",
       "26 brown  blue  160    F  \n",
       "27 brown  brown 184    M  \n",
       "28 yellow brown 175    M  \n",
       "29 yellow green 173    M  "
      ]
     },
     "metadata": {},
     "output_type": "display_data"
    }
   ],
   "source": [
    "# setwd(\"/Documents/GITHUB/FUON_memtoring/4주차/traits.csv\")\n",
    "getwd()\n",
    "setwd(getwd()) # 현재 디렉토리로 작업디렉토리 변경\n",
    "traits <- read.csv('traits.csv', header=TRUE) # 외부파일 불러오기 csv\n",
    "traits"
   ]
  },
  {
   "cell_type": "code",
   "execution_count": 45,
   "metadata": {},
   "outputs": [
    {
     "name": "stdout",
     "output_type": "stream",
     "text": [
      "'data.frame':\t29 obs. of  4 variables:\n",
      " $ Hair  : Factor w/ 2 levels \"brown\",\"yellow\": 1 1 1 1 1 2 2 2 2 2 ...\n",
      " $ Eyes  : Factor w/ 3 levels \"blue\",\"brown\",..: 1 1 1 2 2 1 1 1 2 3 ...\n",
      " $ Height: int  178 176 174 180 173 158 166 153 162 180 ...\n",
      " $ Sex   : Factor w/ 2 levels \"F\",\"M\": 2 1 1 2 1 1 1 1 2 2 ...\n"
     ]
    },
    {
     "data": {
      "text/html": [
       "<ol class=list-inline>\n",
       "\t<li>'brown'</li>\n",
       "\t<li>'yellow'</li>\n",
       "</ol>\n"
      ],
      "text/latex": [
       "\\begin{enumerate*}\n",
       "\\item 'brown'\n",
       "\\item 'yellow'\n",
       "\\end{enumerate*}\n"
      ],
      "text/markdown": [
       "1. 'brown'\n",
       "2. 'yellow'\n",
       "\n",
       "\n"
      ],
      "text/plain": [
       "[1] \"brown\"  \"yellow\""
      ]
     },
     "metadata": {},
     "output_type": "display_data"
    },
    {
     "data": {
      "text/html": [
       "<ol class=list-inline>\n",
       "\t<li>'blue'</li>\n",
       "\t<li>'brown'</li>\n",
       "\t<li>'green'</li>\n",
       "</ol>\n"
      ],
      "text/latex": [
       "\\begin{enumerate*}\n",
       "\\item 'blue'\n",
       "\\item 'brown'\n",
       "\\item 'green'\n",
       "\\end{enumerate*}\n"
      ],
      "text/markdown": [
       "1. 'blue'\n",
       "2. 'brown'\n",
       "3. 'green'\n",
       "\n",
       "\n"
      ],
      "text/plain": [
       "[1] \"blue\"  \"brown\" \"green\""
      ]
     },
     "metadata": {},
     "output_type": "display_data"
    },
    {
     "data": {
      "text/html": [
       "<ol class=list-inline>\n",
       "\t<li>'F'</li>\n",
       "\t<li>'M'</li>\n",
       "</ol>\n"
      ],
      "text/latex": [
       "\\begin{enumerate*}\n",
       "\\item 'F'\n",
       "\\item 'M'\n",
       "\\end{enumerate*}\n"
      ],
      "text/markdown": [
       "1. 'F'\n",
       "2. 'M'\n",
       "\n",
       "\n"
      ],
      "text/plain": [
       "[1] \"F\" \"M\""
      ]
     },
     "metadata": {},
     "output_type": "display_data"
    },
    {
     "data": {
      "text/plain": [
       "\n",
       " blue brown green \n",
       "   10     8    11 "
      ]
     },
     "metadata": {},
     "output_type": "display_data"
    }
   ],
   "source": [
    "str(traits) # 데이터프레임 구조확인\n",
    "levels(traits$Hair) # Hair 범주확인\n",
    "levels(traits$Eyes) # Eyes 범주확인\n",
    "levels(traits$Sex) # Sex 범주확인\n",
    "\n",
    "table(traits$Eyes) # 범주형 데이터의 개수확인"
   ]
  },
  {
   "cell_type": "code",
   "execution_count": 47,
   "metadata": {},
   "outputs": [
    {
     "data": {
      "image/png": "[encoded data removed]",
      "text/plain": [
       "plot without title"
      ]
     },
     "metadata": {},
     "output_type": "display_data"
    }
   ],
   "source": [
    "barplot(table(traits$Eyes))"
   ]
  },
  {
   "cell_type": "code",
   "execution_count": 49,
   "metadata": {},
   "outputs": [
    {
     "data": {
      "image/png": "[encoded data removed]",
      "text/plain": [
       "Plot with title \"Barplot of Eye Color Distribution\""
      ]
     },
     "metadata": {},
     "output_type": "display_data"
    }
   ],
   "source": [
    "barplot(table(traits$Eyes), ylab=\"Frequency\", main=\"Barplot of Eye Color Distribution\")"
   ]
  },
  {
   "cell_type": "code",
   "execution_count": 57,
   "metadata": {},
   "outputs": [
    {
     "data": {
      "text/html": [
       "<ol class=list-inline>\n",
       "\t<li>blue</li>\n",
       "\t<li>blue</li>\n",
       "\t<li>brown</li>\n",
       "\t<li>blue</li>\n",
       "\t<li>blue</li>\n",
       "\t<li>blue</li>\n",
       "\t<li>green</li>\n",
       "\t<li>green</li>\n",
       "\t<li>green</li>\n",
       "\t<li>green</li>\n",
       "\t<li>blue</li>\n",
       "\t<li>blue</li>\n",
       "\t<li>brown</li>\n",
       "\t<li>brown</li>\n",
       "\t<li>brown</li>\n",
       "\t<li>blue</li>\n",
       "\t<li>blue</li>\n",
       "</ol>\n",
       "\n",
       "<details>\n",
       "\t<summary style=display:list-item;cursor:pointer>\n",
       "\t\t<strong>Levels</strong>:\n",
       "\t</summary>\n",
       "\t<ol class=list-inline>\n",
       "\t\t<li>'blue'</li>\n",
       "\t\t<li>'brown'</li>\n",
       "\t\t<li>'green'</li>\n",
       "\t</ol>\n",
       "</details>"
      ],
      "text/latex": [
       "\\begin{enumerate*}\n",
       "\\item blue\n",
       "\\item blue\n",
       "\\item brown\n",
       "\\item blue\n",
       "\\item blue\n",
       "\\item blue\n",
       "\\item green\n",
       "\\item green\n",
       "\\item green\n",
       "\\item green\n",
       "\\item blue\n",
       "\\item blue\n",
       "\\item brown\n",
       "\\item brown\n",
       "\\item brown\n",
       "\\item blue\n",
       "\\item blue\n",
       "\\end{enumerate*}\n",
       "\n",
       "\\emph{Levels}: \\begin{enumerate*}\n",
       "\\item 'blue'\n",
       "\\item 'brown'\n",
       "\\item 'green'\n",
       "\\end{enumerate*}\n"
      ],
      "text/markdown": [
       "1. blue\n",
       "2. blue\n",
       "3. brown\n",
       "4. blue\n",
       "5. blue\n",
       "6. blue\n",
       "7. green\n",
       "8. green\n",
       "9. green\n",
       "10. green\n",
       "11. blue\n",
       "12. blue\n",
       "13. brown\n",
       "14. brown\n",
       "15. brown\n",
       "16. blue\n",
       "17. blue\n",
       "\n",
       "\n",
       "\n",
       "**Levels**: 1. 'blue'\n",
       "2. 'brown'\n",
       "3. 'green'\n",
       "\n",
       "\n"
      ],
      "text/plain": [
       " [1] blue  blue  brown blue  blue  blue  green green green green blue  blue \n",
       "[13] brown brown brown blue  blue \n",
       "Levels: blue brown green"
      ]
     },
     "metadata": {},
     "output_type": "display_data"
    },
    {
     "data": {
      "text/plain": [
       "\n",
       " blue brown green \n",
       "    9     4     4 "
      ]
     },
     "metadata": {},
     "output_type": "display_data"
    },
    {
     "data": {
      "image/png": "[encoded data removed]",
      "text/plain": [
       "Plot with title \"Barplot of Female Eye Colors\""
      ]
     },
     "metadata": {},
     "output_type": "display_data"
    },
    {
     "data": {
      "image/png": "[encoded data removed]",
      "text/plain": [
       "Plot with title \"Barplot of Female Eye Colors\""
      ]
     },
     "metadata": {},
     "output_type": "display_data"
    }
   ],
   "source": [
    "# 여성 Eyes 분포확인\n",
    "traits$Eyes[traits$Sex=='F'] # 성별이 여성인 row\n",
    "fem_eyes<-table(traits$Eyes[traits$Sex=='F']) # 성별이 여성인 Eyes 범주형데이터 개수\n",
    "\n",
    "fem_eyes\n",
    "barplot(fem_eyes,ylab=\"Frequency\", main=\"Barplot of Female Eye Colors\")\n",
    "barplot(fem_eyes,ylab=\"Frequency\", main=\"Barplot of Female Eye Colors\", col=\"lightblue\") # 색상"
   ]
  },
  {
   "cell_type": "code",
   "execution_count": 72,
   "metadata": {},
   "outputs": [
    {
     "data": {
      "image/png": "[encoded data removed]",
      "text/plain": [
       "plot without title"
      ]
     },
     "metadata": {},
     "output_type": "display_data"
    }
   ],
   "source": [
    "barplot(c(14,185,1055,280)) #table과 vector로 생성"
   ]
  },
  {
   "cell_type": "code",
   "execution_count": 74,
   "metadata": {},
   "outputs": [
    {
     "data": {
      "image/png": "[encoded data removed]",
      "text/plain": [
       "plot without title"
      ]
     },
     "metadata": {},
     "output_type": "display_data"
    }
   ],
   "source": [
    "barplot(c(14,185,1055,280), names=c(\"사과\",\"딸기\",\"포도\",\"배\"))"
   ]
  },
  {
   "cell_type": "code",
   "execution_count": 76,
   "metadata": {},
   "outputs": [
    {
     "data": {
      "image/png": "[encoded data removed]",
      "text/plain": [
       "plot without title"
      ]
     },
     "metadata": {},
     "output_type": "display_data"
    }
   ],
   "source": [
    "barplot(c(14,185,1055,280), names=c(\"사과\",\"딸기\",\"포도\",\"배\"), col=rainbow(4))"
   ]
  },
  {
   "cell_type": "code",
   "execution_count": 78,
   "metadata": {},
   "outputs": [
    {
     "data": {
      "image/png": "[encoded data removed]",
      "text/plain": [
       "plot without title"
      ]
     },
     "metadata": {},
     "output_type": "display_data"
    }
   ],
   "source": [
    "barplot(c(14,185,1055,280), names=c(\"사과\",\"딸기\",\"포도\",\"배\"), col=rainbow(4), space=F)"
   ]
  },
  {
   "cell_type": "code",
   "execution_count": 86,
   "metadata": {},
   "outputs": [
    {
     "data": {
      "image/png": "[encoded data removed]",
      "text/plain": [
       "Plot with title \"2019년 과일 판매량\""
      ]
     },
     "metadata": {},
     "output_type": "display_data"
    }
   ],
   "source": [
    "barplot(c(14,185,1055,280), names=c(\"사과\",\"딸기\",\"포도\",\"배\"), col=rainbow(4), space=0.3, main=\"2019년 과일 판매량\")"
   ]
  },
  {
   "cell_type": "code",
   "execution_count": 88,
   "metadata": {},
   "outputs": [
    {
     "data": {
      "image/png": "[encoded data removed]",
      "text/plain": [
       "Plot with title \"2019년 과일 판매량\""
      ]
     },
     "metadata": {},
     "output_type": "display_data"
    }
   ],
   "source": [
    "barplot(c(14,185,1055,280), names=c(\"사과\",\"딸기\",\"포도\",\"배\"), col=rainbow(4), space=0.3, main=\"2019년 과일 판매량\", horiz=T)"
   ]
  },
  {
   "cell_type": "code",
   "execution_count": 91,
   "metadata": {},
   "outputs": [],
   "source": [
    "# 교통사고 데이터\n",
    "traffic<-read.csv(\"2016년교통사망사고데이터.csv\")"
   ]
  },
  {
   "cell_type": "code",
   "execution_count": 93,
   "metadata": {},
   "outputs": [
    {
     "data": {
      "text/html": [
       "<table>\n",
       "<thead><tr><th scope=col>발생년</th><th scope=col>발생년월일시</th><th scope=col>발생분</th><th scope=col>주야</th><th scope=col>요일</th><th scope=col>사망자수</th><th scope=col>사상자수</th><th scope=col>중상자수</th><th scope=col>경상자수</th><th scope=col>부상신고자수</th><th scope=col>...</th><th scope=col>도로형태_대분류</th><th scope=col>도로형태</th><th scope=col>당사자종별_1당_대분류</th><th scope=col>당사자종별_1당</th><th scope=col>당사자종별_2당_대분류</th><th scope=col>당사자종별_2당</th><th scope=col>발생위치X_UTMK</th><th scope=col>발생위치Y_UTMK</th><th scope=col>경도</th><th scope=col>위도</th></tr></thead>\n",
       "<tbody>\n",
       "\t<tr><td>2016      </td><td>2016122320</td><td>35        </td><td>야간      </td><td>금        </td><td>1         </td><td>1         </td><td>0         </td><td>0         </td><td>0         </td><td>...       </td><td>교차로    </td><td>교차로내  </td><td>승용차    </td><td>중형      </td><td>보행자    </td><td>보행자    </td><td> 981731   </td><td>1932086   </td><td>127.2936  </td><td>37.38769  </td></tr>\n",
       "\t<tr><td>2016      </td><td>2016122517</td><td>48        </td><td>주간      </td><td>일        </td><td>1         </td><td>1         </td><td>0         </td><td>0         </td><td>0         </td><td>...       </td><td>단일로    </td><td>기타단일로</td><td>승용차    </td><td>중형      </td><td>보행자    </td><td>보행자    </td><td> 945989   </td><td>1942347   </td><td>126.8891  </td><td>37.47878  </td></tr>\n",
       "\t<tr><td>2016      </td><td>2016122519</td><td> 5        </td><td>야간      </td><td>일        </td><td>1         </td><td>1         </td><td>0         </td><td>0         </td><td>0         </td><td>...       </td><td>단일로    </td><td>기타단일로</td><td>화물차    </td><td>소형      </td><td>보행자    </td><td>보행자    </td><td> 993981   </td><td>1879534   </td><td>127.4316  </td><td>36.91593  </td></tr>\n",
       "\t<tr><td>2016      </td><td>2016122610</td><td>40        </td><td>주간      </td><td>월        </td><td>1         </td><td>1         </td><td>0         </td><td>0         </td><td>0         </td><td>...       </td><td>단일로    </td><td>기타단일로</td><td>승합차    </td><td>경형      </td><td>보행자    </td><td>보행자    </td><td>1161153   </td><td>1751026   </td><td>129.2822  </td><td>35.74239  </td></tr>\n",
       "\t<tr><td>2016      </td><td>2016122819</td><td>40        </td><td>야간      </td><td>수        </td><td>1         </td><td>1         </td><td>0         </td><td>0         </td><td>0         </td><td>...       </td><td>단일로    </td><td>기타단일로</td><td>승용차    </td><td>소형      </td><td>보행자    </td><td>보행자    </td><td>1056276   </td><td>1686645   </td><td>128.1180  </td><td>35.17351  </td></tr>\n",
       "\t<tr><td>2016      </td><td>2016111207</td><td>34        </td><td>주간      </td><td>토        </td><td>1         </td><td>1         </td><td>0         </td><td>0         </td><td>0         </td><td>...       </td><td>단일로    </td><td>기타단일로</td><td>건설기계  </td><td>건설기계  </td><td>보행자    </td><td>보행자    </td><td>1102347   </td><td>1655121   </td><td>128.6200  </td><td>34.88566  </td></tr>\n",
       "</tbody>\n",
       "</table>\n"
      ],
      "text/latex": [
       "\\begin{tabular}{r|lllllllllllllllllllllllllll}\n",
       " 발생년 & 발생년월일시 & 발생분 & 주야 & 요일 & 사망자수 & 사상자수 & 중상자수 & 경상자수 & 부상신고자수 & ... & 도로형태\\_대분류 & 도로형태 & 당사자종별\\_1당\\_대분류 & 당사자종별\\_1당 & 당사자종별\\_2당\\_대분류 & 당사자종별\\_2당 & 발생위치X\\_UTMK & 발생위치Y\\_UTMK & 경도 & 위도\\\\\n",
       "\\hline\n",
       "\t 2016       & 2016122320 & 35         & 야간       & 금         & 1          & 1          & 0          & 0          & 0          & ...        & 교차로     & 교차로내   & 승용차     & 중형       & 보행자     & 보행자     &  981731    & 1932086    & 127.2936   & 37.38769  \\\\\n",
       "\t 2016       & 2016122517 & 48         & 주간       & 일         & 1          & 1          & 0          & 0          & 0          & ...        & 단일로     & 기타단일로 & 승용차     & 중형       & 보행자     & 보행자     &  945989    & 1942347    & 126.8891   & 37.47878  \\\\\n",
       "\t 2016       & 2016122519 &  5         & 야간       & 일         & 1          & 1          & 0          & 0          & 0          & ...        & 단일로     & 기타단일로 & 화물차     & 소형       & 보행자     & 보행자     &  993981    & 1879534    & 127.4316   & 36.91593  \\\\\n",
       "\t 2016       & 2016122610 & 40         & 주간       & 월         & 1          & 1          & 0          & 0          & 0          & ...        & 단일로     & 기타단일로 & 승합차     & 경형       & 보행자     & 보행자     & 1161153    & 1751026    & 129.2822   & 35.74239  \\\\\n",
       "\t 2016       & 2016122819 & 40         & 야간       & 수         & 1          & 1          & 0          & 0          & 0          & ...        & 단일로     & 기타단일로 & 승용차     & 소형       & 보행자     & 보행자     & 1056276    & 1686645    & 128.1180   & 35.17351  \\\\\n",
       "\t 2016       & 2016111207 & 34         & 주간       & 토         & 1          & 1          & 0          & 0          & 0          & ...        & 단일로     & 기타단일로 & 건설기계   & 건설기계   & 보행자     & 보행자     & 1102347    & 1655121    & 128.6200   & 34.88566  \\\\\n",
       "\\end{tabular}\n"
      ],
      "text/markdown": [
       "\n",
       "발생년 | 발생년월일시 | 발생분 | 주야 | 요일 | 사망자수 | 사상자수 | 중상자수 | 경상자수 | 부상신고자수 | ... | 도로형태_대분류 | 도로형태 | 당사자종별_1당_대분류 | 당사자종별_1당 | 당사자종별_2당_대분류 | 당사자종별_2당 | 발생위치X_UTMK | 발생위치Y_UTMK | 경도 | 위도 | \n",
       "|---|---|---|---|---|---|\n",
       "| 2016       | 2016122320 | 35         | 야간       | 금         | 1          | 1          | 0          | 0          | 0          | ...        | 교차로     | 교차로내   | 승용차     | 중형       | 보행자     | 보행자     |  981731    | 1932086    | 127.2936   | 37.38769   | \n",
       "| 2016       | 2016122517 | 48         | 주간       | 일         | 1          | 1          | 0          | 0          | 0          | ...        | 단일로     | 기타단일로 | 승용차     | 중형       | 보행자     | 보행자     |  945989    | 1942347    | 126.8891   | 37.47878   | \n",
       "| 2016       | 2016122519 |  5         | 야간       | 일         | 1          | 1          | 0          | 0          | 0          | ...        | 단일로     | 기타단일로 | 화물차     | 소형       | 보행자     | 보행자     |  993981    | 1879534    | 127.4316   | 36.91593   | \n",
       "| 2016       | 2016122610 | 40         | 주간       | 월         | 1          | 1          | 0          | 0          | 0          | ...        | 단일로     | 기타단일로 | 승합차     | 경형       | 보행자     | 보행자     | 1161153    | 1751026    | 129.2822   | 35.74239   | \n",
       "| 2016       | 2016122819 | 40         | 야간       | 수         | 1          | 1          | 0          | 0          | 0          | ...        | 단일로     | 기타단일로 | 승용차     | 소형       | 보행자     | 보행자     | 1056276    | 1686645    | 128.1180   | 35.17351   | \n",
       "| 2016       | 2016111207 | 34         | 주간       | 토         | 1          | 1          | 0          | 0          | 0          | ...        | 단일로     | 기타단일로 | 건설기계   | 건설기계   | 보행자     | 보행자     | 1102347    | 1655121    | 128.6200   | 34.88566   | \n",
       "\n",
       "\n"
      ],
      "text/plain": [
       "  발생년 발생년월일시 발생분 주야 요일 사망자수 사상자수 중상자수 경상자수\n",
       "1 2016   2016122320   35     야간 금   1        1        0        0       \n",
       "2 2016   2016122517   48     주간 일   1        1        0        0       \n",
       "3 2016   2016122519    5     야간 일   1        1        0        0       \n",
       "4 2016   2016122610   40     주간 월   1        1        0        0       \n",
       "5 2016   2016122819   40     야간 수   1        1        0        0       \n",
       "6 2016   2016111207   34     주간 토   1        1        0        0       \n",
       "  부상신고자수 ... 도로형태_대분류 도로형태   당사자종별_1당_대분류\n",
       "1 0            ... 교차로          교차로내   승용차               \n",
       "2 0            ... 단일로          기타단일로 승용차               \n",
       "3 0            ... 단일로          기타단일로 화물차               \n",
       "4 0            ... 단일로          기타단일로 승합차               \n",
       "5 0            ... 단일로          기타단일로 승용차               \n",
       "6 0            ... 단일로          기타단일로 건설기계             \n",
       "  당사자종별_1당 당사자종별_2당_대분류 당사자종별_2당 발생위치X_UTMK\n",
       "1 중형           보행자                보행자          981731       \n",
       "2 중형           보행자                보행자          945989       \n",
       "3 소형           보행자                보행자          993981       \n",
       "4 경형           보행자                보행자         1161153       \n",
       "5 소형           보행자                보행자         1056276       \n",
       "6 건설기계       보행자                보행자         1102347       \n",
       "  발생위치Y_UTMK 경도     위도    \n",
       "1 1932086        127.2936 37.38769\n",
       "2 1942347        126.8891 37.47878\n",
       "3 1879534        127.4316 36.91593\n",
       "4 1751026        129.2822 35.74239\n",
       "5 1686645        128.1180 35.17351\n",
       "6 1655121        128.6200 34.88566"
      ]
     },
     "metadata": {},
     "output_type": "display_data"
    },
    {
     "data": {
      "text/html": [
       "<table>\n",
       "<thead><tr><th></th><th scope=col>발생년</th><th scope=col>발생년월일시</th><th scope=col>발생분</th><th scope=col>주야</th><th scope=col>요일</th><th scope=col>사망자수</th><th scope=col>사상자수</th><th scope=col>중상자수</th><th scope=col>경상자수</th><th scope=col>부상신고자수</th><th scope=col>...</th><th scope=col>도로형태_대분류</th><th scope=col>도로형태</th><th scope=col>당사자종별_1당_대분류</th><th scope=col>당사자종별_1당</th><th scope=col>당사자종별_2당_대분류</th><th scope=col>당사자종별_2당</th><th scope=col>발생위치X_UTMK</th><th scope=col>발생위치Y_UTMK</th><th scope=col>경도</th><th scope=col>위도</th></tr></thead>\n",
       "<tbody>\n",
       "\t<tr><th scope=row>4114</th><td>2016      </td><td>2016101322</td><td>10        </td><td>야간      </td><td>목        </td><td>10        </td><td>19        </td><td>8         </td><td>1         </td><td>0         </td><td>...       </td><td>단일로    </td><td>기타단일로</td><td>승합차    </td><td>대형      </td><td>          </td><td>          </td><td>1147813   </td><td>1731792   </td><td>129.1312  </td><td>35.57114  </td></tr>\n",
       "\t<tr><th scope=row>4115</th><td>2016      </td><td>2016103022</td><td>30        </td><td>야간      </td><td>일        </td><td> 1        </td><td> 5        </td><td>0         </td><td>0         </td><td>4         </td><td>...       </td><td>단일로    </td><td>기타단일로</td><td>화물차    </td><td>소형      </td><td>승용차    </td><td>중형      </td><td> 943948   </td><td>1887499   </td><td>126.8702  </td><td>36.98428  </td></tr>\n",
       "\t<tr><th scope=row>4116</th><td>2016      </td><td>2016090617</td><td> 0        </td><td>주간      </td><td>화        </td><td> 1        </td><td> 6        </td><td>3         </td><td>2         </td><td>0         </td><td>...       </td><td>단일로    </td><td>기타단일로</td><td>승합차    </td><td>소형      </td><td>          </td><td>          </td><td> 916766   </td><td>1675017   </td><td>126.5871  </td><td>35.06680  </td></tr>\n",
       "\t<tr><th scope=row>4117</th><td>2016      </td><td>2016080910</td><td>45        </td><td>주간      </td><td>화        </td><td> 1        </td><td>13        </td><td>7         </td><td>5         </td><td>0         </td><td>...       </td><td>단일로    </td><td>기타단일로</td><td>화물차    </td><td>중형      </td><td>승용차    </td><td>중형      </td><td>1021445   </td><td>1893826   </td><td>127.7483  </td><td>37.04197  </td></tr>\n",
       "\t<tr><th scope=row>4118</th><td>2016      </td><td>2016091402</td><td>37        </td><td>야간      </td><td>수        </td><td> 1        </td><td> 2        </td><td>0         </td><td>1         </td><td>0         </td><td>...       </td><td>단일로    </td><td>기타단일로</td><td>승용차    </td><td>중형      </td><td>보행자    </td><td>보행자    </td><td> 930843   </td><td>1947455   </td><td>126.7277  </td><td>37.52389  </td></tr>\n",
       "\t<tr><th scope=row>4119</th><td>2016      </td><td>2016071301</td><td>15        </td><td>야간      </td><td>수        </td><td> 1        </td><td> 2        </td><td>1         </td><td>0         </td><td>0         </td><td>...       </td><td>기타/불명 </td><td>기타/불명 </td><td>화물차    </td><td>대형      </td><td>화물차    </td><td>대형      </td><td>1077563   </td><td>1789127   </td><td>128.3614  </td><td>36.09454  </td></tr>\n",
       "</tbody>\n",
       "</table>\n"
      ],
      "text/latex": [
       "\\begin{tabular}{r|lllllllllllllllllllllllllll}\n",
       "  & 발생년 & 발생년월일시 & 발생분 & 주야 & 요일 & 사망자수 & 사상자수 & 중상자수 & 경상자수 & 부상신고자수 & ... & 도로형태\\_대분류 & 도로형태 & 당사자종별\\_1당\\_대분류 & 당사자종별\\_1당 & 당사자종별\\_2당\\_대분류 & 당사자종별\\_2당 & 발생위치X\\_UTMK & 발생위치Y\\_UTMK & 경도 & 위도\\\\\n",
       "\\hline\n",
       "\t4114 & 2016       & 2016101322 & 10         & 야간       & 목         & 10         & 19         & 8          & 1          & 0          & ...        & 단일로     & 기타단일로 & 승합차     & 대형       &            &            & 1147813    & 1731792    & 129.1312   & 35.57114  \\\\\n",
       "\t4115 & 2016       & 2016103022 & 30         & 야간       & 일         &  1         &  5         & 0          & 0          & 4          & ...        & 단일로     & 기타단일로 & 화물차     & 소형       & 승용차     & 중형       &  943948    & 1887499    & 126.8702   & 36.98428  \\\\\n",
       "\t4116 & 2016       & 2016090617 &  0         & 주간       & 화         &  1         &  6         & 3          & 2          & 0          & ...        & 단일로     & 기타단일로 & 승합차     & 소형       &            &            &  916766    & 1675017    & 126.5871   & 35.06680  \\\\\n",
       "\t4117 & 2016       & 2016080910 & 45         & 주간       & 화         &  1         & 13         & 7          & 5          & 0          & ...        & 단일로     & 기타단일로 & 화물차     & 중형       & 승용차     & 중형       & 1021445    & 1893826    & 127.7483   & 37.04197  \\\\\n",
       "\t4118 & 2016       & 2016091402 & 37         & 야간       & 수         &  1         &  2         & 0          & 1          & 0          & ...        & 단일로     & 기타단일로 & 승용차     & 중형       & 보행자     & 보행자     &  930843    & 1947455    & 126.7277   & 37.52389  \\\\\n",
       "\t4119 & 2016       & 2016071301 & 15         & 야간       & 수         &  1         &  2         & 1          & 0          & 0          & ...        & 기타/불명  & 기타/불명  & 화물차     & 대형       & 화물차     & 대형       & 1077563    & 1789127    & 128.3614   & 36.09454  \\\\\n",
       "\\end{tabular}\n"
      ],
      "text/markdown": [
       "\n",
       "| <!--/--> | 발생년 | 발생년월일시 | 발생분 | 주야 | 요일 | 사망자수 | 사상자수 | 중상자수 | 경상자수 | 부상신고자수 | ... | 도로형태_대분류 | 도로형태 | 당사자종별_1당_대분류 | 당사자종별_1당 | 당사자종별_2당_대분류 | 당사자종별_2당 | 발생위치X_UTMK | 발생위치Y_UTMK | 경도 | 위도 | \n",
       "|---|---|---|---|---|---|\n",
       "| 4114 | 2016       | 2016101322 | 10         | 야간       | 목         | 10         | 19         | 8          | 1          | 0          | ...        | 단일로     | 기타단일로 | 승합차     | 대형       |            |            | 1147813    | 1731792    | 129.1312   | 35.57114   | \n",
       "| 4115 | 2016       | 2016103022 | 30         | 야간       | 일         |  1         |  5         | 0          | 0          | 4          | ...        | 단일로     | 기타단일로 | 화물차     | 소형       | 승용차     | 중형       |  943948    | 1887499    | 126.8702   | 36.98428   | \n",
       "| 4116 | 2016       | 2016090617 |  0         | 주간       | 화         |  1         |  6         | 3          | 2          | 0          | ...        | 단일로     | 기타단일로 | 승합차     | 소형       |            |            |  916766    | 1675017    | 126.5871   | 35.06680   | \n",
       "| 4117 | 2016       | 2016080910 | 45         | 주간       | 화         |  1         | 13         | 7          | 5          | 0          | ...        | 단일로     | 기타단일로 | 화물차     | 중형       | 승용차     | 중형       | 1021445    | 1893826    | 127.7483   | 37.04197   | \n",
       "| 4118 | 2016       | 2016091402 | 37         | 야간       | 수         |  1         |  2         | 0          | 1          | 0          | ...        | 단일로     | 기타단일로 | 승용차     | 중형       | 보행자     | 보행자     |  930843    | 1947455    | 126.7277   | 37.52389   | \n",
       "| 4119 | 2016       | 2016071301 | 15         | 야간       | 수         |  1         |  2         | 1          | 0          | 0          | ...        | 기타/불명  | 기타/불명  | 화물차     | 대형       | 화물차     | 대형       | 1077563    | 1789127    | 128.3614   | 36.09454   | \n",
       "\n",
       "\n"
      ],
      "text/plain": [
       "     발생년 발생년월일시 발생분 주야 요일 사망자수 사상자수 중상자수 경상자수\n",
       "4114 2016   2016101322   10     야간 목   10       19       8        1       \n",
       "4115 2016   2016103022   30     야간 일    1        5       0        0       \n",
       "4116 2016   2016090617    0     주간 화    1        6       3        2       \n",
       "4117 2016   2016080910   45     주간 화    1       13       7        5       \n",
       "4118 2016   2016091402   37     야간 수    1        2       0        1       \n",
       "4119 2016   2016071301   15     야간 수    1        2       1        0       \n",
       "     부상신고자수 ... 도로형태_대분류 도로형태   당사자종별_1당_대분류\n",
       "4114 0            ... 단일로          기타단일로 승합차               \n",
       "4115 4            ... 단일로          기타단일로 화물차               \n",
       "4116 0            ... 단일로          기타단일로 승합차               \n",
       "4117 0            ... 단일로          기타단일로 화물차               \n",
       "4118 0            ... 단일로          기타단일로 승용차               \n",
       "4119 0            ... 기타/불명       기타/불명  화물차               \n",
       "     당사자종별_1당 당사자종별_2당_대분류 당사자종별_2당 발생위치X_UTMK\n",
       "4114 대형                                                1147813       \n",
       "4115 소형           승용차                중형            943948       \n",
       "4116 소형                                                 916766       \n",
       "4117 중형           승용차                중형           1021445       \n",
       "4118 중형           보행자                보행자          930843       \n",
       "4119 대형           화물차                대형           1077563       \n",
       "     발생위치Y_UTMK 경도     위도    \n",
       "4114 1731792        129.1312 35.57114\n",
       "4115 1887499        126.8702 36.98428\n",
       "4116 1675017        126.5871 35.06680\n",
       "4117 1893826        127.7483 37.04197\n",
       "4118 1947455        126.7277 37.52389\n",
       "4119 1789127        128.3614 36.09454"
      ]
     },
     "metadata": {},
     "output_type": "display_data"
    },
    {
     "data": {
      "text/html": [
       "4119"
      ],
      "text/latex": [
       "4119"
      ],
      "text/markdown": [
       "4119"
      ],
      "text/plain": [
       "[1] 4119"
      ]
     },
     "metadata": {},
     "output_type": "display_data"
    },
    {
     "data": {
      "text/plain": [
       "     발생년      발생년월일시           발생분        주야      요일    \n",
       " Min.   :2016   Min.   :2.016e+09   Min.   : 0.00   야간:2072   금:666  \n",
       " 1st Qu.:2016   1st Qu.:2.016e+09   1st Qu.:10.00   주간:2047   목:596  \n",
       " Median :2016   Median :2.016e+09   Median :27.00               수:565  \n",
       " Mean   :2016   Mean   :2.016e+09   Mean   :26.94               월:584  \n",
       " 3rd Qu.:2016   3rd Qu.:2.016e+09   3rd Qu.:40.00               일:513  \n",
       " Max.   :2016   Max.   :2.016e+09   Max.   :59.00               토:635  \n",
       "                                                                화:560  \n",
       "    사망자수         사상자수         중상자수         경상자수      \n",
       " Min.   : 1.000   Min.   : 1.000   Min.   : 0.000   Min.   : 0.0000  \n",
       " 1st Qu.: 1.000   1st Qu.: 1.000   1st Qu.: 0.000   1st Qu.: 0.0000  \n",
       " Median : 1.000   Median : 1.000   Median : 0.000   Median : 0.0000  \n",
       " Mean   : 1.042   Mean   : 1.576   Mean   : 0.252   Mean   : 0.2595  \n",
       " 3rd Qu.: 1.000   3rd Qu.: 1.000   3rd Qu.: 0.000   3rd Qu.: 0.0000  \n",
       " Max.   :10.000   Max.   :67.000   Max.   :22.000   Max.   :62.0000  \n",
       "                                                                     \n",
       "  부상신고자수       발생지시도         발생지시군구  사고유형_대분류\n",
       " Min.   :0.00000   경기   : 749   서구        :  78   차대사람:1647  \n",
       " 1st Qu.:0.00000   경북   : 477   남구        :  76   차대차  :1646  \n",
       " Median :0.00000   충남   : 372   창원시(통합):  75   차량단독: 826  \n",
       " Mean   :0.02282   경남   : 359   청주시      :  74                  \n",
       " 3rd Qu.:0.00000   서울   : 342   북구        :  69                  \n",
       " Max.   :5.00000   전남   : 327   동구        :  58                  \n",
       "                   (Other):1493   (Other)     :3689                  \n",
       "     사고유형_중분류         사고유형          법규위반_대분류\n",
       " 횡단중      :1078   횡단중      :1078   운전자법규위반:4119  \n",
       " 기타        : 665   기타        : 665                        \n",
       " 측면직각충돌: 619   측면직각충돌: 619                        \n",
       " 전도전복    : 480   전도전복    : 480                        \n",
       " 추돌        : 436   진행중 추돌 : 436                        \n",
       " 정면충돌    : 323   정면충돌    : 323                        \n",
       " (Other)     : 518   (Other)     : 518                        \n",
       "                 법규위반      도로형태_대분류       도로형태   \n",
       " 안전운전 의무 불이행:2856   고가도로위:  14   기타단일로:2427  \n",
       " 신호위반            : 333   교차로    :1285   교차로내  : 817  \n",
       " 중앙선 침범         : 314   기타/불명 : 103   교차로부근: 468  \n",
       " 과속                : 178   단일로    :2704   횡단보도상: 170  \n",
       " 보행자 보호의무 위반: 174   지하도로내:  13   기타/불명 : 103  \n",
       " 교차로 통행방법 위반:  68                     교량위    :  49  \n",
       " (Other)             : 196                     (Other)   :  85  \n",
       "      당사자종별_1당_대분류          당사자종별_1당 당사자종별_2당_대분류\n",
       " 승용차          :2023      소형            :1265   보행자 :1642         \n",
       " 화물차          : 914      중형            :1206          : 825         \n",
       " 이륜차          : 415      경형            : 660   승용차 : 548         \n",
       " 승합차          : 261      대형            : 478   화물차 : 408         \n",
       " 원동기장치자전거: 184      원동기장치자전거: 184   이륜차 : 210         \n",
       " 자전거          : 113      자전거          : 113   자전거 : 148         \n",
       " (Other)         : 209      (Other)         : 213   (Other): 338         \n",
       " 당사자종별_2당 발생위치X_UTMK    발생위치Y_UTMK         경도      \n",
       " 보행자 :1642   Min.   :      0   Min.   :      0   Min.   :118.0  \n",
       "        : 825   1st Qu.: 946505   1st Qu.:1725992   1st Qu.:126.9  \n",
       " 소형   : 465   Median : 977012   Median :1823659   Median :127.2  \n",
       " 중형   : 385   Mean   :1007249   Mean   :1818670   Mean   :127.6  \n",
       " 대형   : 239   3rd Qu.:1080135   3rd Qu.:1930029   3rd Qu.:128.4  \n",
       " 경형   : 195   Max.   :1296967   Max.   :2053766   Max.   :130.9  \n",
       " (Other): 368                                                      \n",
       "      위도      \n",
       " Min.   :19.69  \n",
       " 1st Qu.:35.52  \n",
       " Median :36.41  \n",
       " Mean   :36.36  \n",
       " 3rd Qu.:37.37  \n",
       " Max.   :38.48  \n",
       "                "
      ]
     },
     "metadata": {},
     "output_type": "display_data"
    },
    {
     "name": "stdout",
     "output_type": "stream",
     "text": [
      "'data.frame':\t4119 obs. of  27 variables:\n",
      " $ 발생년               : int  2016 2016 2016 2016 2016 2016 2016 2016 2016 2016 ...\n",
      " $ 발생년월일시         : int  2016122320 2016122517 2016122519 2016122610 2016122819 2016111207 2016110919 2016111005 2016110711 2016110818 ...\n",
      " $ 발생분               : int  35 48 5 40 40 34 25 0 5 0 ...\n",
      " $ 주야                 : Factor w/ 2 levels \"야간\",\"주간\": 1 2 1 2 1 2 1 1 2 1 ...\n",
      " $ 요일                 : Factor w/ 7 levels \"금\",\"목\",\"수\",..: 1 5 5 4 3 6 3 2 4 7 ...\n",
      " $ 사망자수             : int  1 1 1 1 1 1 1 1 1 1 ...\n",
      " $ 사상자수             : int  1 1 1 1 1 1 1 1 1 1 ...\n",
      " $ 중상자수             : int  0 0 0 0 0 0 0 0 0 0 ...\n",
      " $ 경상자수             : int  0 0 0 0 0 0 0 0 0 0 ...\n",
      " $ 부상신고자수         : int  0 0 0 0 0 0 0 0 0 0 ...\n",
      " $ 발생지시도           : Factor w/ 17 levels \"강원\",\"경기\",..: 2 9 17 4 3 3 2 12 16 13 ...\n",
      " $ 발생지시군구         : Factor w/ 205 levels \"가평군\",\"강남구\",..: 26 38 172 12 171 9 190 86 132 103 ...\n",
      " $ 사고유형_대분류      : Factor w/ 3 levels \"차대사람\",\"차대차\",..: 1 1 1 1 1 1 1 1 3 1 ...\n",
      " $ 사고유형_중분류      : Factor w/ 12 levels \"공작물충돌\",\"기타\",..: 2 12 9 12 12 12 2 12 6 9 ...\n",
      " $ 사고유형             : Factor w/ 13 levels \"공작물충돌\",\"기타\",..: 2 13 11 13 13 13 2 13 7 11 ...\n",
      " $ 법규위반_대분류      : Factor w/ 1 level \"운전자법규위반\": 1 1 1 1 1 1 1 1 1 1 ...\n",
      " $ 법규위반             : Factor w/ 14 levels \"과속\",\"교차로 통행방법 위반\",..: 9 9 9 9 4 9 9 4 9 9 ...\n",
      " $ 도로형태_대분류      : Factor w/ 5 levels \"고가도로위\",\"교차로\",..: 2 4 4 4 4 4 4 4 4 4 ...\n",
      " $ 도로형태             : Factor w/ 10 levels \"고가도로위\",\"교량위\",..: 3 6 6 6 6 6 6 6 6 6 ...\n",
      " $ 당사자종별_1당_대분류: Factor w/ 10 levels \"건설기계\",\"농기계\",..: 4 4 10 5 4 1 4 4 1 4 ...\n",
      " $ 당사자종별_1당       : Factor w/ 10 levels \"건설기계\",\"경형\",..: 10 10 7 2 7 1 10 2 1 10 ...\n",
      " $ 당사자종별_2당_대분류: Factor w/ 12 levels \"\",\"건설기계\",..: 4 4 4 4 4 4 4 4 1 4 ...\n",
      " $ 당사자종별_2당       : Factor w/ 12 levels \"\",\"건설기계\",..: 6 6 6 6 6 6 6 6 1 6 ...\n",
      " $ 발생위치X_UTMK       : num  981731 945989 993981 1161153 1056276 ...\n",
      " $ 발생위치Y_UTMK       : num  1932086 1942347 1879534 1751026 1686645 ...\n",
      " $ 경도                 : num  127 127 127 129 128 ...\n",
      " $ 위도                 : num  37.4 37.5 36.9 35.7 35.2 ...\n"
     ]
    }
   ],
   "source": [
    "# 데이터 생김새 파악\n",
    "head(traffic) # 데이터 상위 6개 보기\n",
    "tail(traffic) # 데이터 하위 6개 보기\n",
    "nrow(traffic) # 데이터 row수 보기\n",
    "summary(traffic) # 기본통계량 보기\n",
    "str(traffic) # 변수 특성 확인 등 구조 확인"
   ]
  },
  {
   "cell_type": "code",
   "execution_count": 99,
   "metadata": {},
   "outputs": [
    {
     "data": {
      "text/plain": [
       "\n",
       "세종 울산 제주 광주 대전 인천 대구 부산 강원 충북 전북 전남 서울 경남 충남 경북 \n",
       "  25   70   77   85   94  137  150  153  206  221  275  327  342  359  372  477 \n",
       "경기 \n",
       " 749 "
      ]
     },
     "metadata": {},
     "output_type": "display_data"
    },
    {
     "data": {
      "image/png": "[encoded data removed]",
      "text/plain": [
       "plot without title"
      ]
     },
     "metadata": {},
     "output_type": "display_data"
    }
   ],
   "source": [
    "# 막대그래프 그리기\n",
    "bar <- table(traffic$발생지시도)\n",
    "bar <- sort(bar, descreasing=T) # 오름차순 정렬\n",
    "bar\n",
    "barplot(bar)"
   ]
  },
  {
   "cell_type": "code",
   "execution_count": 104,
   "metadata": {},
   "outputs": [
    {
     "data": {
      "image/png": "[encoded data removed]",
      "text/plain": [
       "plot without title"
      ]
     },
     "metadata": {},
     "output_type": "display_data"
    },
    {
     "data": {
      "image/png": "[encoded data removed]",
      "text/plain": [
       "plot without title"
      ]
     },
     "metadata": {},
     "output_type": "display_data"
    }
   ],
   "source": [
    "# 그래프 색 지정\n",
    "barplot(bar, col=\"skyblue\")\n",
    "barplot(bar, col=\"grey\", border=\"white\")\n"
   ]
  },
  {
   "cell_type": "code",
   "execution_count": 110,
   "metadata": {},
   "outputs": [
    {
     "name": "stderr",
     "output_type": "stream",
     "text": [
      "Warning message in plot.window(xlim, ylim, log = log, ...):\n",
      "\"\"barder\"는 그래픽 매개변수가 아닙니다\"Warning message in axis(if (horiz) 2 else 1, at = at.l, labels = names.arg, lty = axis.lty, :\n",
      "\"\"barder\"는 그래픽 매개변수가 아닙니다\"Warning message in title(main = main, sub = sub, xlab = xlab, ylab = ylab, ...):\n",
      "\"\"barder\"는 그래픽 매개변수가 아닙니다\"Warning message in axis(if (horiz) 1 else 2, cex.axis = cex.axis, ...):\n",
      "\"\"barder\"는 그래픽 매개변수가 아닙니다\""
     ]
    },
    {
     "data": {
      "image/png": "[encoded data removed]",
      "text/plain": [
       "plot without title"
      ]
     },
     "metadata": {},
     "output_type": "display_data"
    }
   ],
   "source": [
    "cols <- ifelse(bar== max(bar), \"brown4\",\"grey\")\n",
    "barplot(bar, col=cols, barder=\"white\")"
   ]
  },
  {
   "cell_type": "code",
   "execution_count": 121,
   "metadata": {},
   "outputs": [
    {
     "data": {
      "image/png": "[encoded data removed]",
      "text/plain": [
       "plot without title"
      ]
     },
     "metadata": {},
     "output_type": "display_data"
    },
    {
     "data": {
      "image/png": "[encoded data removed]",
      "text/plain": [
       "plot without title"
      ]
     },
     "metadata": {},
     "output_type": "display_data"
    }
   ],
   "source": [
    "#막대크기 조절\n",
    "barplot(bar, space=0.5)\n",
    "barplot(bar, width=100)"
   ]
  },
  {
   "cell_type": "code",
   "execution_count": 123,
   "metadata": {},
   "outputs": [
    {
     "data": {
      "image/png": "[encoded data removed]",
      "text/plain": [
       "plot without title"
      ]
     },
     "metadata": {},
     "output_type": "display_data"
    }
   ],
   "source": [
    "# y축범위설정\n",
    "barplot(bar, ylim=c(0,800))"
   ]
  },
  {
   "cell_type": "code",
   "execution_count": 128,
   "metadata": {},
   "outputs": [
    {
     "data": {
      "image/png": "[encoded data removed]",
      "text/plain": [
       "plot without title"
      ]
     },
     "metadata": {},
     "output_type": "display_data"
    }
   ],
   "source": [
    "# 값입력\n",
    "bar.text <- barplot(bar)\n",
    "text(bar.text, bar+20, labels=bar, pos=1)"
   ]
  }
 ],
 "metadata": {
  "kernelspec": {
   "display_name": "R",
   "language": "R",
   "name": "ir"
  },
  "language_info": {
   "codemirror_mode": "r",
   "file_extension": ".r",
   "mimetype": "text/x-r-source",
   "name": "R",
   "pygments_lexer": "r",
   "version": "3.5.1"
  }
 },
 "nbformat": 4,
 "nbformat_minor": 2
}
